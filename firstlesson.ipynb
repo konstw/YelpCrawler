{
 "cells": [
  {
   "cell_type": "markdown",
   "metadata": {},
   "source": [
    "## <font color = \"purple\">Chapter 2: Input, Output, Variable Assignment, data types in Python </font>"
   ]
  },
  {
   "cell_type": "markdown",
   "metadata": {},
   "source": [
    "### This notebook Author: Proud student of 7990"
   ]
  },
  {
   "cell_type": "code",
   "execution_count": 1,
   "metadata": {},
   "outputs": [
    {
     "name": "stdout",
     "output_type": "stream",
     "text": [
      "aha! my first line of code!!!! \n"
     ]
    }
   ],
   "source": [
    "print(\"aha! my first line of code!!!! \")"
   ]
  },
  {
   "cell_type": "markdown",
   "metadata": {},
   "source": [
    "### The next cell shows how to define variables and assign values to the variables. \n",
    "#### It also shows how to output (print) several variables along with text strings, all in a single print\n",
    "\n",
    "notice how comments are added to the first four lines below"
   ]
  },
  {
   "cell_type": "code",
   "execution_count": 2,
   "metadata": {},
   "outputs": [
    {
     "name": "stdout",
     "output_type": "stream",
     "text": [
      "fname = Robert age =  24 hours worked =  42.5 wage per hour =  30.0\n"
     ]
    }
   ],
   "source": [
    "fname = \"Robert\"   # text string is stored in fname\n",
    "age = 24           # an integer is stored in age\n",
    "hours = 42.5       # a real value is stored in hours \n",
    "wage_rate = 30.00  # a real value is stored in wage_rate\n",
    "\n",
    "# Display (print) values of all the variables in a single print statement\n",
    "print(\"fname =\",fname, \"age = \", age, \"hours worked = \", hours, \"wage per hour = \", wage_rate)"
   ]
  },
  {
   "cell_type": "markdown",
   "metadata": {},
   "source": [
    "### Let us calculate Robert's gross income in the week"
   ]
  },
  {
   "cell_type": "code",
   "execution_count": 3,
   "metadata": {},
   "outputs": [
    {
     "name": "stdout",
     "output_type": "stream",
     "text": [
      "Robert's Gross Income =  1275.0 dollars\n"
     ]
    }
   ],
   "source": [
    "gross_income = hours * wage_rate\n",
    "print(\"Robert's Gross Income = \", gross_income, \"dollars\")"
   ]
  },
  {
   "cell_type": "markdown",
   "metadata": {},
   "source": [
    "### Let us redo the same problem, but this time ask the user for hours worked."
   ]
  },
  {
   "cell_type": "code",
   "execution_count": 4,
   "metadata": {},
   "outputs": [
    {
     "name": "stdout",
     "output_type": "stream",
     "text": [
      "how many hours did you work? 45.5\n",
      "Robert made  $ 1365.0\n"
     ]
    }
   ],
   "source": [
    "fname = \"Robert\"\n",
    "age = 24\n",
    "wage_rate = 30.00\n",
    "\n",
    "\"\"\"\n",
    "the input function reads the user input as a text string. We need to convert it to a floating point\n",
    "number (or an integer) in order to perform arithmetic with it.\n",
    "\"\"\"\n",
    "hours = float(input(\"how many hours did you work? \" ))\n",
    "\n",
    "# calculate gross_income based on hours input by user\n",
    "gross_income = wage_rate * hours\n",
    "# print Robert's Gross income\n",
    "print(fname, \"made  $\", gross_income)\n"
   ]
  },
  {
   "cell_type": "markdown",
   "metadata": {},
   "source": [
    "### type() is a function in Python that can tell you the datatype of a variable in Python"
   ]
  },
  {
   "cell_type": "code",
   "execution_count": 5,
   "metadata": {},
   "outputs": [
    {
     "data": {
      "text/plain": [
       "int"
      ]
     },
     "execution_count": 5,
     "metadata": {},
     "output_type": "execute_result"
    }
   ],
   "source": [
    "# what is the data type of the variable age?\n",
    "type(age)"
   ]
  },
  {
   "cell_type": "code",
   "execution_count": 6,
   "metadata": {},
   "outputs": [
    {
     "data": {
      "text/plain": [
       "str"
      ]
     },
     "execution_count": 6,
     "metadata": {},
     "output_type": "execute_result"
    }
   ],
   "source": [
    "# what is the data type of the variable fname?\n",
    "type(fname)"
   ]
  },
  {
   "cell_type": "code",
   "execution_count": 7,
   "metadata": {},
   "outputs": [
    {
     "data": {
      "text/plain": [
       "float"
      ]
     },
     "execution_count": 7,
     "metadata": {},
     "output_type": "execute_result"
    }
   ],
   "source": [
    "# what is the data type of the variable fname?\n",
    "type(hours)"
   ]
  }
 ],
 "metadata": {
  "kernelspec": {
   "display_name": "Python 3",
   "language": "python",
   "name": "python3"
  },
  "language_info": {
   "codemirror_mode": {
    "name": "ipython",
    "version": 3
   },
   "file_extension": ".py",
   "mimetype": "text/x-python",
   "name": "python",
   "nbconvert_exporter": "python",
   "pygments_lexer": "ipython3",
   "version": "3.7.3"
  }
 },
 "nbformat": 4,
 "nbformat_minor": 2
}
