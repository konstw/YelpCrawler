{
 "cells": [
  {
   "cell_type": "code",
   "execution_count": 1,
   "metadata": {},
   "outputs": [],
   "source": [
    "import twint\n",
    "import json"
   ]
  },
  {
   "cell_type": "code",
   "execution_count": 10,
   "metadata": {
    "collapsed": true
   },
   "outputs": [
    {
     "name": "stdout",
     "output_type": "stream",
     "text": [
      "\n",
      "1188188567773822977 2019-10-26 16:20:04 Eastern Daylight Time <realDonaldTrump> MISSISSIPPI! There is a VERY important election for Governor on November 5th. I need you to get out and VOTE for our Great Republican nominee, @TateReeves. Tate is Strong on Crime, tough on Illegal Immigration, and will protect your Second Amendment....\n",
      "1188187872114946054 2019-10-26 16:17:18 Eastern Daylight Time <realDonaldTrump> ....Our Republican candidate @EddieRispone is a successful conservative businessman who will stand with me to create jobs and protect your Second Amendment. GET OUT AND VOTE for Eddie, the next Governor of the GREAT State of Louisiana!\n",
      "1188187870877618176 2019-10-26 16:17:18 Eastern Daylight Time <realDonaldTrump> LOUISIANA! Extreme Democrat John Bel Edwards has sided with Nancy Pelosi and Chuck Schumer to support Sanctuary Cities, High Taxes, and Open Borders. He is crushing Louisiana’s economy and your Second Amendment rights....\n",
      "1188103745525243904 2019-10-26 10:43:01 Eastern Daylight Time <realDonaldTrump> Where’s the Whistleblower?\n",
      "1188103311653769216 2019-10-26 10:41:18 Eastern Daylight Time <realDonaldTrump> The Fake Washington Post keeps doing phony stories, with zero sources, that I am concerned with the Impeachment scam. I am not because I did nothing wrong. It is the other side, including Schiff and his made up story, that are concerned. Witch Hunt continues!\n",
      "1188091546513616897 2019-10-26 09:54:33 Eastern Daylight Time <realDonaldTrump> My Administration is fighting hard to end the Opioid Crisis. Join with us by disposing unused or expired prescription medications at over 4,000 locations across this great Country. Find a location TODAY from 10am-2pm at  http://TakeBackDay.DEA.gov . #TakeBackDay pic.twitter.com/xBEyflYYGj\n",
      "1188067370478309378 2019-10-26 08:18:29 Eastern Daylight Time <realDonaldTrump> ....\n",
      "1188067369501052929 2019-10-26 08:18:28 Eastern Daylight Time <realDonaldTrump> ....greatly help the African American community (and all other communities), and which was unable to get done in past administrations despite a tremendous desire for it. This and best unemployment numbers EVER is more than Kamala will EVER be able to do for African Americans!\n",
      "1188067368620167168 2019-10-26 08:18:28 Eastern Daylight Time <realDonaldTrump> Badly failing presidential candidate @KamalaHarris will not go to a very wonderful largely African American event today because yesterday I recieved a major award, at the same event, for being able to produce & sign into law major Criminal Justice Reform legislation, which will..\n",
      "1188058730685972480 2019-10-26 07:44:09 Eastern Daylight Time <realDonaldTrump> The Ukraine investigation is just as Corrupt and Fake as all of the other garbage that went on before it. Even Shifty Schiff got caught cheating when he made up what I said on the call!\n",
      "1188054937839775744 2019-10-26 07:29:04 Eastern Daylight Time <realDonaldTrump> ....We should all work together to clean up these hazardous waste and homeless sites before the whole city rots away. Very bad and dangerous conditions, also severely impacting the Pacific Ocean and water supply. Pelosi must work on this mess and turn her District around!\n",
      "1188054936942198784 2019-10-26 07:29:04 Eastern Daylight Time <realDonaldTrump> I can’t believe that Nancy Pelosi’s District in San Francisco is in such horrible shape that the City itself is in violation of many sanitary & environmental orders, causing it to owe the Federal Government billions of dollars - and all she works on is Impeachment.....\n",
      "1188053446215323650 2019-10-26 07:23:09 Eastern Daylight Time <realDonaldTrump> “Not a single American citizen has been charged with anything related to Russian Collusion, not one person.” @TuckerCarlson  It was all an illegal Witch Hunt!\n",
      "1188052969813614592 2019-10-26 07:21:15 Eastern Daylight Time <realDonaldTrump> Had a beautiful dinner last night at Camp David in celebration of the 10th Wedding Anniversary of Ivanka and Jared. Attended by a small number of family and friends, it could not have been nicer. Camp David is a special place. Cost of the event will be totally paid for by me!\n",
      "1188048259627081728 2019-10-26 07:02:32 Eastern Daylight Time <realDonaldTrump> ...Thank you @foxandfriends! Hopefully this is just the beginning of a massive story of injustice and treason. You will never learn this from the corrupt LameStream Media who get Pulitzer Prizes for reporting the story totally wrong. The ones who report it right get only RESPECT!\n",
      "1188048258255540224 2019-10-26 07:02:32 Eastern Daylight Time <realDonaldTrump> ..the President when Flynn had been cleared of everything long before that. The DOJ is withholding a lot of evidence & information, as are Clapper & Brennan & all of the people who participated in the complete setup of Michael Flynn.”(Terrible!) Sidney Powell. This is a disgrace!\n",
      "1188048257177587712 2019-10-26 07:02:32 Eastern Daylight Time <realDonaldTrump> ....They exonerated him completely of being an agent of Russia (Recently Crooked Hillary charged Tulsi Gabbard & Jill Stein with the same thing-SICK), and yet Mr. Comey still runs to the White House on February 14 and conjures up the Obstruction of Justice narrative against.....\n",
      "1188048255797608449 2019-10-26 07:02:31 Eastern Daylight Time <realDonaldTrump> “General Michael Flynn’s attorney is demanding that charges be immediately dropped after they found that FBI Agents manipulated records against him. They say that James Clapper told a reporter to “take a kill shot at Flynn. This has been a complete setup of Michael Flynn....\n",
      "1187936868299608065 2019-10-25 23:39:54 Eastern Daylight Time <realDonaldTrump> My Administration is fighting hard to end the Opioid Crisis. Join with us by disposing unused or expired prescription medications at over 4,000 locations across this great Country. Find a location TOMORROW, October 26th from 10am-2pm at  http://TakeBackDay.DEA.gov . #TakeBackDay pic.twitter.com/DvgrxZoLzp\n",
      "1187934016235888641 2019-10-25 23:28:34 Eastern Daylight Time <realDonaldTrump>  https://twitter.com/robertjeffress/status/1187763371837415424 … pic.twitter.com/iUD808JXyt\n",
      "1187917572102078465 2019-10-25 22:23:14 Eastern Daylight Time <realDonaldTrump>  https://twitter.com/realdonaldtrump/status/1187819045690773504 … pic.twitter.com/Bxpt7nQTjG\n",
      "1187876694859882503 2019-10-25 19:40:48 Eastern Daylight Time <realDonaldTrump> Great Book! https://twitter.com/JesseBWatters/status/1187795599241949184 …\n",
      "1187876420342689792 2019-10-25 19:39:42 Eastern Daylight Time <realDonaldTrump> Wow! https://twitter.com/jim_jordan/status/1187820031645798401 …\n",
      "1187874908660998144 2019-10-25 19:33:42 Eastern Daylight Time <realDonaldTrump> My lawyers should sue the Democrats and Shifty Adam Schiff for fraud!\n",
      "1187874124976271362 2019-10-25 19:30:35 Eastern Daylight Time <realDonaldTrump> ....The entire Impeachment Scam was based on my perfect Ukrainian call, and the Whistleblowers account of that call, which turned out to be false (a fraud?). Once I released the actual call, their entire case fell apart. The Democrats must end this Scam now. Witch Hunt!\n",
      "1187874122279337987 2019-10-25 19:30:35 Eastern Daylight Time <realDonaldTrump> Democrats just announced that they no longer want the Whistleblower to testify. But everything was about the Whistleblower (they no longer want the second Whistleblower either), which they don’t want because the account of my call bore NO RELATIONSHIP to the call itself.....\n",
      "1187861209942495234 2019-10-25 18:39:16 Eastern Daylight Time <realDonaldTrump> To Tim: The Button on the IPhone was FAR better than the Swipe!\n",
      "1187838852255244288 2019-10-25 17:10:26 Eastern Daylight Time <realDonaldTrump> ....in the basement of the United States Capitol! They cannot win at the ballot box. Their sham for the past 3 years continues. The good news is that the American People get it, which will be proven once again on November 3, 2020!\n",
      "1187838848732020737 2019-10-25 17:10:25 Eastern Daylight Time <realDonaldTrump> I appreciate the support of Senator @LindseyGraham, @SenateMajLdr Mitch McConnell, and their Great Senate Republican colleagues, on the resolution condemning the Do Nothing Democrats for their Witch Hunt Impeachment inquiry, behind closed doors....\n"
     ]
    }
   ],
   "source": [
    "c = twint.Config()\n",
    "c.Username = 'realDonaldTrump'\n",
    "c.Output = \"DT.csv\"\n",
    "c.Store_csv = True\n",
    "c.Limit=50"
   ]
  },
  {
   "cell_type": "code",
   "execution_count": 12,
   "metadata": {
    "collapsed": true
   },
   "outputs": [
    {
     "ename": "RuntimeError",
     "evalue": "This event loop is already running",
     "output_type": "error",
     "traceback": [
      "\u001b[1;31m---------------------------------------------------------------------------\u001b[0m",
      "\u001b[1;31mRuntimeError\u001b[0m                              Traceback (most recent call last)",
      "\u001b[1;32m<ipython-input-12-f28f8e9aab1e>\u001b[0m in \u001b[0;36m<module>\u001b[1;34m\u001b[0m\n\u001b[1;32m----> 1\u001b[1;33m \u001b[0mtwint\u001b[0m\u001b[1;33m.\u001b[0m\u001b[0mrun\u001b[0m\u001b[1;33m.\u001b[0m\u001b[0mSearch\u001b[0m\u001b[1;33m(\u001b[0m\u001b[0mc\u001b[0m\u001b[1;33m)\u001b[0m\u001b[1;33m\u001b[0m\u001b[1;33m\u001b[0m\u001b[0m\n\u001b[0m",
      "\u001b[1;32m~\\Anaconda3\\lib\\site-packages\\twint\\run.py\u001b[0m in \u001b[0;36mSearch\u001b[1;34m(config, callback)\u001b[0m\n\u001b[0;32m    290\u001b[0m     \u001b[0mconfig\u001b[0m\u001b[1;33m.\u001b[0m\u001b[0mProfile\u001b[0m \u001b[1;33m=\u001b[0m \u001b[1;32mFalse\u001b[0m\u001b[1;33m\u001b[0m\u001b[1;33m\u001b[0m\u001b[0m\n\u001b[0;32m    291\u001b[0m     \u001b[0mconfig\u001b[0m\u001b[1;33m.\u001b[0m\u001b[0mProfile_full\u001b[0m \u001b[1;33m=\u001b[0m \u001b[1;32mFalse\u001b[0m\u001b[1;33m\u001b[0m\u001b[1;33m\u001b[0m\u001b[0m\n\u001b[1;32m--> 292\u001b[1;33m     \u001b[0mrun\u001b[0m\u001b[1;33m(\u001b[0m\u001b[0mconfig\u001b[0m\u001b[1;33m,\u001b[0m \u001b[0mcallback\u001b[0m\u001b[1;33m)\u001b[0m\u001b[1;33m\u001b[0m\u001b[1;33m\u001b[0m\u001b[0m\n\u001b[0m\u001b[0;32m    293\u001b[0m     \u001b[1;32mif\u001b[0m \u001b[0mconfig\u001b[0m\u001b[1;33m.\u001b[0m\u001b[0mPandas_au\u001b[0m\u001b[1;33m:\u001b[0m\u001b[1;33m\u001b[0m\u001b[1;33m\u001b[0m\u001b[0m\n\u001b[0;32m    294\u001b[0m         \u001b[0mstorage\u001b[0m\u001b[1;33m.\u001b[0m\u001b[0mpanda\u001b[0m\u001b[1;33m.\u001b[0m\u001b[0m_autoget\u001b[0m\u001b[1;33m(\u001b[0m\u001b[1;34m\"tweet\"\u001b[0m\u001b[1;33m)\u001b[0m\u001b[1;33m\u001b[0m\u001b[1;33m\u001b[0m\u001b[0m\n",
      "\u001b[1;32m~\\Anaconda3\\lib\\site-packages\\twint\\run.py\u001b[0m in \u001b[0;36mrun\u001b[1;34m(config, callback)\u001b[0m\n\u001b[0;32m    211\u001b[0m \u001b[1;32mdef\u001b[0m \u001b[0mrun\u001b[0m\u001b[1;33m(\u001b[0m\u001b[0mconfig\u001b[0m\u001b[1;33m,\u001b[0m \u001b[0mcallback\u001b[0m\u001b[1;33m=\u001b[0m\u001b[1;32mNone\u001b[0m\u001b[1;33m)\u001b[0m\u001b[1;33m:\u001b[0m\u001b[1;33m\u001b[0m\u001b[1;33m\u001b[0m\u001b[0m\n\u001b[0;32m    212\u001b[0m     \u001b[0mlogme\u001b[0m\u001b[1;33m.\u001b[0m\u001b[0mdebug\u001b[0m\u001b[1;33m(\u001b[0m\u001b[0m__name__\u001b[0m\u001b[1;33m+\u001b[0m\u001b[1;34m':run'\u001b[0m\u001b[1;33m)\u001b[0m\u001b[1;33m\u001b[0m\u001b[1;33m\u001b[0m\u001b[0m\n\u001b[1;32m--> 213\u001b[1;33m     \u001b[0mget_event_loop\u001b[0m\u001b[1;33m(\u001b[0m\u001b[1;33m)\u001b[0m\u001b[1;33m.\u001b[0m\u001b[0mrun_until_complete\u001b[0m\u001b[1;33m(\u001b[0m\u001b[0mTwint\u001b[0m\u001b[1;33m(\u001b[0m\u001b[0mconfig\u001b[0m\u001b[1;33m)\u001b[0m\u001b[1;33m.\u001b[0m\u001b[0mmain\u001b[0m\u001b[1;33m(\u001b[0m\u001b[0mcallback\u001b[0m\u001b[1;33m)\u001b[0m\u001b[1;33m)\u001b[0m\u001b[1;33m\u001b[0m\u001b[1;33m\u001b[0m\u001b[0m\n\u001b[0m\u001b[0;32m    214\u001b[0m \u001b[1;33m\u001b[0m\u001b[0m\n\u001b[0;32m    215\u001b[0m \u001b[1;32mdef\u001b[0m \u001b[0mFavorites\u001b[0m\u001b[1;33m(\u001b[0m\u001b[0mconfig\u001b[0m\u001b[1;33m)\u001b[0m\u001b[1;33m:\u001b[0m\u001b[1;33m\u001b[0m\u001b[1;33m\u001b[0m\u001b[0m\n",
      "\u001b[1;32m~\\Anaconda3\\lib\\asyncio\\base_events.py\u001b[0m in \u001b[0;36mrun_until_complete\u001b[1;34m(self, future)\u001b[0m\n\u001b[0;32m    569\u001b[0m         \u001b[0mfuture\u001b[0m\u001b[1;33m.\u001b[0m\u001b[0madd_done_callback\u001b[0m\u001b[1;33m(\u001b[0m\u001b[0m_run_until_complete_cb\u001b[0m\u001b[1;33m)\u001b[0m\u001b[1;33m\u001b[0m\u001b[1;33m\u001b[0m\u001b[0m\n\u001b[0;32m    570\u001b[0m         \u001b[1;32mtry\u001b[0m\u001b[1;33m:\u001b[0m\u001b[1;33m\u001b[0m\u001b[1;33m\u001b[0m\u001b[0m\n\u001b[1;32m--> 571\u001b[1;33m             \u001b[0mself\u001b[0m\u001b[1;33m.\u001b[0m\u001b[0mrun_forever\u001b[0m\u001b[1;33m(\u001b[0m\u001b[1;33m)\u001b[0m\u001b[1;33m\u001b[0m\u001b[1;33m\u001b[0m\u001b[0m\n\u001b[0m\u001b[0;32m    572\u001b[0m         \u001b[1;32mexcept\u001b[0m\u001b[1;33m:\u001b[0m\u001b[1;33m\u001b[0m\u001b[1;33m\u001b[0m\u001b[0m\n\u001b[0;32m    573\u001b[0m             \u001b[1;32mif\u001b[0m \u001b[0mnew_task\u001b[0m \u001b[1;32mand\u001b[0m \u001b[0mfuture\u001b[0m\u001b[1;33m.\u001b[0m\u001b[0mdone\u001b[0m\u001b[1;33m(\u001b[0m\u001b[1;33m)\u001b[0m \u001b[1;32mand\u001b[0m \u001b[1;32mnot\u001b[0m \u001b[0mfuture\u001b[0m\u001b[1;33m.\u001b[0m\u001b[0mcancelled\u001b[0m\u001b[1;33m(\u001b[0m\u001b[1;33m)\u001b[0m\u001b[1;33m:\u001b[0m\u001b[1;33m\u001b[0m\u001b[1;33m\u001b[0m\u001b[0m\n",
      "\u001b[1;32m~\\Anaconda3\\lib\\asyncio\\base_events.py\u001b[0m in \u001b[0;36mrun_forever\u001b[1;34m(self)\u001b[0m\n\u001b[0;32m    524\u001b[0m         \u001b[0mself\u001b[0m\u001b[1;33m.\u001b[0m\u001b[0m_check_closed\u001b[0m\u001b[1;33m(\u001b[0m\u001b[1;33m)\u001b[0m\u001b[1;33m\u001b[0m\u001b[1;33m\u001b[0m\u001b[0m\n\u001b[0;32m    525\u001b[0m         \u001b[1;32mif\u001b[0m \u001b[0mself\u001b[0m\u001b[1;33m.\u001b[0m\u001b[0mis_running\u001b[0m\u001b[1;33m(\u001b[0m\u001b[1;33m)\u001b[0m\u001b[1;33m:\u001b[0m\u001b[1;33m\u001b[0m\u001b[1;33m\u001b[0m\u001b[0m\n\u001b[1;32m--> 526\u001b[1;33m             \u001b[1;32mraise\u001b[0m \u001b[0mRuntimeError\u001b[0m\u001b[1;33m(\u001b[0m\u001b[1;34m'This event loop is already running'\u001b[0m\u001b[1;33m)\u001b[0m\u001b[1;33m\u001b[0m\u001b[1;33m\u001b[0m\u001b[0m\n\u001b[0m\u001b[0;32m    527\u001b[0m         \u001b[1;32mif\u001b[0m \u001b[0mevents\u001b[0m\u001b[1;33m.\u001b[0m\u001b[0m_get_running_loop\u001b[0m\u001b[1;33m(\u001b[0m\u001b[1;33m)\u001b[0m \u001b[1;32mis\u001b[0m \u001b[1;32mnot\u001b[0m \u001b[1;32mNone\u001b[0m\u001b[1;33m:\u001b[0m\u001b[1;33m\u001b[0m\u001b[1;33m\u001b[0m\u001b[0m\n\u001b[0;32m    528\u001b[0m             raise RuntimeError(\n",
      "\u001b[1;31mRuntimeError\u001b[0m: This event loop is already running"
     ]
    },
    {
     "name": "stdout",
     "output_type": "stream",
     "text": [
      "1189198831193411585 2019-10-29 11:14:30 Eastern Daylight Time <realDonaldTrump> Nervous Nancy Pelosi is doing everything possible to destroy the Republican Party. Our Polls show that it is going to be just the opposite. The Do Nothing Dems will lose many seats in 2020. They have a Death Wish, led by a corrupt politician, Adam Schiff!\n",
      "1189198697059553285 2019-10-29 11:13:58 Eastern Daylight Time <realDonaldTrump> “Over in Europe and Japan they have NEGATIVE RATES. They get paid to borrow money. Don’t we have to follow our competitors?” @Varneyco  Yes we do. The Fed doesn’t have a clue! We have unlimited potential, only held back by the Federal Reserve. But we are winning anyway!\n",
      "1189183301233233920 2019-10-29 10:12:47 Eastern Daylight Time <realDonaldTrump> Consumer Confidence number very good. Housing sales in September up nicely. Economy Rocks!\n",
      "1189173602500911105 2019-10-29 09:34:15 Eastern Daylight Time <realDonaldTrump> A great new book just out, “The Plot Against the President. The True Story Of How Congressman Devin Nunez Uncovered the Biggest Political Scandal In U.S. History.” Shows very bad and corrupt people on the other side. Check it out!\n",
      "1189172468159864832 2019-10-29 09:29:44 Eastern Daylight Time <realDonaldTrump> Just confirmed that Abu Bakr al-Baghdadi’s number one replacement has been terminated by American troops. Most likely would have taken the top spot - Now he is also Dead!\n",
      "1189170102832377857 2019-10-29 09:20:20 Eastern Daylight Time <realDonaldTrump> 95% Approval Rating in the Republican Party, a record. Thank you!\n",
      "1189167309455331328 2019-10-29 09:09:14 Eastern Daylight Time <realDonaldTrump> Supposedly, according to the Corrupt Media, the Ukraine call “concerned” today’s Never Trumper witness. Was he on the same call that I was? Can’t be possible! Please ask him to read the Transcript of the call. Witch Hunt!\n",
      "1189161824614277120 2019-10-29 08:47:27 Eastern Daylight Time <realDonaldTrump> How many more Never Trumpers will be allowed to testify about a perfectly appropriate phone call when all anyone has to do is READ THE TRANSCRIPT! I knew people were listening in on the call (why would I say something inappropriate?), which was fine with me, but why so many?\n",
      "1189156179173433344 2019-10-29 08:25:01 Eastern Daylight Time <realDonaldTrump> The Do Nothing Democrats are working hard to make everyone forget the Best Economy Ever, the monumental weekend raid, Tax Cuts, the Rebuilding of our Military, etc. The Impeachment Hoax is a disgrace. Read the transcript!\n",
      "1189154764359196672 2019-10-29 08:19:23 Eastern Daylight Time <realDonaldTrump> Where’s the Whistleblower? Just read the Transcript, everything else is made up garbage by Shifty Schiff and the Never Trumpers!\n",
      "1189146892292313088 2019-10-29 07:48:07 Eastern Daylight Time <realDonaldTrump> A great book by a great guy. Get it now! https://twitter.com/dbongino/status/1188636122764718080 …\n",
      "1189146007310913536 2019-10-29 07:44:36 Eastern Daylight Time <realDonaldTrump> Correct, a total scam! https://twitter.com/gopleader/status/1188914973638057989 …\n",
      "1189145407361814528 2019-10-29 07:42:13 Eastern Daylight Time <realDonaldTrump> Why are people that I never even heard of testifying about the call. Just READ THE CALL TRANSCRIPT AND THE IMPEACHMENT HOAX IS OVER! Ukrain said NO PRESSURE. https://twitter.com/realdonaldtrump/status/1189026689860489216 …\n",
      "1189030619755495425 2019-10-29 00:06:05 Eastern Daylight Time <realDonaldTrump> “This is a big win for America, and also for President Trump.” @nypost\n",
      "1189028602052042752 2019-10-28 23:58:04 Eastern Daylight Time <realDonaldTrump> The only crimes in the Impeachment Hoax were committed by Shifty Adam Schiff, when he totally made up my phone conversation with the Ukrainian President and read it to Congress, together with numerous others on Shifty’s side. Schiff should be Impeached, and worse!\n",
      "1189026689860489216 2019-10-28 23:50:28 Eastern Daylight Time <realDonaldTrump> “There is no underlying crime in that transcript.” @IngrahamAngle  100% correct, and the Whistleblower disappeared after I released the transcript of the call. Where is the Whistleblower? That is why this is now called the Impeachment Hoax! The Do Nothing Dems are Doing Nothing!\n",
      "1189023754912964608 2019-10-28 23:38:48 Eastern Daylight Time <realDonaldTrump> “Americans know by now that the Impeachment inquiry is just another hoax and silent coup to remove the President from office.” J.J. Crovatto  Don’t worry J.J., Schiff is a leaker & corrupt politician who made up what I said on the call in order to hurt the Republican Party & me!\n",
      "1188929062611361792 2019-10-28 17:22:32 Eastern Daylight Time <realDonaldTrump> Can you believe that Shifty Adam Schiff, the biggest leaker in D.C., and a corrupt politician, is upset that we didn’t inform him before we raided and killed the #1 terrorist in the WORLD!? Wouldn’t be surprised if the Do Nothing Democrats Impeach me over that! DRAIN THE SWAMP!!\n",
      "1188917392761479168 2019-10-28 16:36:10 Eastern Daylight Time <realDonaldTrump> So nice, thank you! https://twitter.com/chatbycc/status/1187342386608955393 …\n",
      "1188909031403900928 2019-10-28 16:02:56 Eastern Daylight Time <realDonaldTrump> We have declassified a picture of the wonderful dog (name not declassified) that did such a GREAT JOB in capturing and killing the Leader of ISIS, Abu Bakr al-Baghdadi! pic.twitter.com/PDMx9nZWvw\n",
      "1188862744067481603 2019-10-28 12:59:00 Eastern Daylight Time <realDonaldTrump> An AMAZING CHAMPION. Great going Tiger! @TigerWoods https://twitter.com/garyplayer/status/1188856716638773255 …\n",
      "1188861523655045124 2019-10-28 12:54:09 Eastern Daylight Time <realDonaldTrump> THANK YOU #IACP2019! https://www.pscp.tv/w/cIcUJjFvTlFsTFJub1dwUXd8MVlwS2tZQVdRTEFKahR7fSZdqx09yGS9uFPKCPDBeeHxU5m4E4sI1DKSk8ZK?t=1m47s …\n",
      "1188813055108374533 2019-10-28 09:41:34 Eastern Daylight Time <realDonaldTrump> The S&P just hit an ALL TIME HIGH. This is a big win for jobs, 401-K’s, and, frankly, EVERYONE! Our Country is doing great. Even killed long sought ISIS murderer, Al-Baghdadi. We are stronger than ever before, with GREAT upward potential. Enjoy!\n",
      "1188567275391127552 2019-10-27 17:24:55 Eastern Daylight Time <realDonaldTrump> Thank you to @MarthaRaddatz and @TerryMoran for a job well done! pic.twitter.com/mcHjqX1K2L\n",
      "1188491847271931911 2019-10-27 12:25:12 Eastern Daylight Time <realDonaldTrump>  pic.twitter.com/7esnNSoa5D\n",
      "1188463248670109696 2019-10-27 10:31:33 Eastern Daylight Time <realDonaldTrump>  https://www.pscp.tv/w/cIWhpTFvTlFsTFJub1dwUXd8MWRSS1pMcmFCTnZKQjQb36qkaoWq4N1_5imPhJ_QjLAHep34mAVq5hIiUXCl?t=1s …\n",
      "1188400389697212416 2019-10-27 06:21:46 Eastern Daylight Time <realDonaldTrump> As Diwali commences, @FLOTUS Melania and I wish those observing the Festival of Lights a blessed and happy celebration! #HappyDiwali pic.twitter.com/LGXkUzMJiI\n",
      "1188264965930700801 2019-10-26 21:23:39 Eastern Daylight Time <realDonaldTrump> Something very big has just happened!\n",
      "1188190202851926019 2019-10-26 16:26:34 Eastern Daylight Time <realDonaldTrump> ....Matt has my Complete and Total Endorsement, and always has. GET OUT and VOTE on November 5th for your GREAT Governor, @MattBevin!\n",
      "1188190202004754432 2019-10-26 16:26:34 Eastern Daylight Time <realDonaldTrump> Governor @MattBevin has done a wonderful job for the people of Kentucky! He continues to protect your very important Second Amendment. Matt is Strong on Crime and the Border, he Loves our Great Vets and Military....\n",
      "1188188568654696448 2019-10-26 16:20:04 Eastern Daylight Time <realDonaldTrump> ....He loves our Military and supports our Vets! Democrat Jim Hood will never give us his vote, is anti-Trump and pro-Crooked Hillary. Get out and VOTE for Tate Reeves on November 5th. He has my Complete and Total Endorsement!\n",
      "1188188567773822977 2019-10-26 16:20:04 Eastern Daylight Time <realDonaldTrump> MISSISSIPPI! There is a VERY important election for Governor on November 5th. I need you to get out and VOTE for our Great Republican nominee, @TateReeves. Tate is Strong on Crime, tough on Illegal Immigration, and will protect your Second Amendment....\n",
      "1188187872114946054 2019-10-26 16:17:18 Eastern Daylight Time <realDonaldTrump> ....Our Republican candidate @EddieRispone is a successful conservative businessman who will stand with me to create jobs and protect your Second Amendment. GET OUT AND VOTE for Eddie, the next Governor of the GREAT State of Louisiana!\n",
      "1188187870877618176 2019-10-26 16:17:18 Eastern Daylight Time <realDonaldTrump> LOUISIANA! Extreme Democrat John Bel Edwards has sided with Nancy Pelosi and Chuck Schumer to support Sanctuary Cities, High Taxes, and Open Borders. He is crushing Louisiana’s economy and your Second Amendment rights....\n",
      "1188103745525243904 2019-10-26 10:43:01 Eastern Daylight Time <realDonaldTrump> Where’s the Whistleblower?\n",
      "1188103311653769216 2019-10-26 10:41:18 Eastern Daylight Time <realDonaldTrump> The Fake Washington Post keeps doing phony stories, with zero sources, that I am concerned with the Impeachment scam. I am not because I did nothing wrong. It is the other side, including Schiff and his made up story, that are concerned. Witch Hunt continues!\n",
      "1188091546513616897 2019-10-26 09:54:33 Eastern Daylight Time <realDonaldTrump> My Administration is fighting hard to end the Opioid Crisis. Join with us by disposing unused or expired prescription medications at over 4,000 locations across this great Country. Find a location TODAY from 10am-2pm at  http://TakeBackDay.DEA.gov . #TakeBackDay pic.twitter.com/xBEyflYYGj\n",
      "1188067370478309378 2019-10-26 08:18:29 Eastern Daylight Time <realDonaldTrump> ....\n"
     ]
    },
    {
     "name": "stdout",
     "output_type": "stream",
     "text": [
      "1188067369501052929 2019-10-26 08:18:28 Eastern Daylight Time <realDonaldTrump> ....greatly help the African American community (and all other communities), and which was unable to get done in past administrations despite a tremendous desire for it. This and best unemployment numbers EVER is more than Kamala will EVER be able to do for African Americans!\n",
      "1188067368620167168 2019-10-26 08:18:28 Eastern Daylight Time <realDonaldTrump> Badly failing presidential candidate @KamalaHarris will not go to a very wonderful largely African American event today because yesterday I recieved a major award, at the same event, for being able to produce & sign into law major Criminal Justice Reform legislation, which will..\n",
      "1188058730685972480 2019-10-26 07:44:09 Eastern Daylight Time <realDonaldTrump> The Ukraine investigation is just as Corrupt and Fake as all of the other garbage that went on before it. Even Shifty Schiff got caught cheating when he made up what I said on the call!\n",
      "1188054937839775744 2019-10-26 07:29:04 Eastern Daylight Time <realDonaldTrump> ....We should all work together to clean up these hazardous waste and homeless sites before the whole city rots away. Very bad and dangerous conditions, also severely impacting the Pacific Ocean and water supply. Pelosi must work on this mess and turn her District around!\n",
      "1188054936942198784 2019-10-26 07:29:04 Eastern Daylight Time <realDonaldTrump> I can’t believe that Nancy Pelosi’s District in San Francisco is in such horrible shape that the City itself is in violation of many sanitary & environmental orders, causing it to owe the Federal Government billions of dollars - and all she works on is Impeachment.....\n",
      "1188053446215323650 2019-10-26 07:23:09 Eastern Daylight Time <realDonaldTrump> “Not a single American citizen has been charged with anything related to Russian Collusion, not one person.” @TuckerCarlson  It was all an illegal Witch Hunt!\n",
      "1188052969813614592 2019-10-26 07:21:15 Eastern Daylight Time <realDonaldTrump> Had a beautiful dinner last night at Camp David in celebration of the 10th Wedding Anniversary of Ivanka and Jared. Attended by a small number of family and friends, it could not have been nicer. Camp David is a special place. Cost of the event will be totally paid for by me!\n",
      "1188048259627081728 2019-10-26 07:02:32 Eastern Daylight Time <realDonaldTrump> ...Thank you @foxandfriends! Hopefully this is just the beginning of a massive story of injustice and treason. You will never learn this from the corrupt LameStream Media who get Pulitzer Prizes for reporting the story totally wrong. The ones who report it right get only RESPECT!\n",
      "1188048258255540224 2019-10-26 07:02:32 Eastern Daylight Time <realDonaldTrump> ..the President when Flynn had been cleared of everything long before that. The DOJ is withholding a lot of evidence & information, as are Clapper & Brennan & all of the people who participated in the complete setup of Michael Flynn.”(Terrible!) Sidney Powell. This is a disgrace!\n",
      "1188048257177587712 2019-10-26 07:02:32 Eastern Daylight Time <realDonaldTrump> ....They exonerated him completely of being an agent of Russia (Recently Crooked Hillary charged Tulsi Gabbard & Jill Stein with the same thing-SICK), and yet Mr. Comey still runs to the White House on February 14 and conjures up the Obstruction of Justice narrative against.....\n",
      "1188048255797608449 2019-10-26 07:02:31 Eastern Daylight Time <realDonaldTrump> “General Michael Flynn’s attorney is demanding that charges be immediately dropped after they found that FBI Agents manipulated records against him. They say that James Clapper told a reporter to “take a kill shot at Flynn. This has been a complete setup of Michael Flynn....\n",
      "1187936868299608065 2019-10-25 23:39:54 Eastern Daylight Time <realDonaldTrump> My Administration is fighting hard to end the Opioid Crisis. Join with us by disposing unused or expired prescription medications at over 4,000 locations across this great Country. Find a location TOMORROW, October 26th from 10am-2pm at  http://TakeBackDay.DEA.gov . #TakeBackDay pic.twitter.com/DvgrxZoLzp\n",
      "1187934016235888641 2019-10-25 23:28:34 Eastern Daylight Time <realDonaldTrump>  https://twitter.com/robertjeffress/status/1187763371837415424 … pic.twitter.com/iUD808JXyt\n",
      "1187917572102078465 2019-10-25 22:23:14 Eastern Daylight Time <realDonaldTrump>  https://twitter.com/realdonaldtrump/status/1187819045690773504 … pic.twitter.com/Bxpt7nQTjG\n",
      "1187876694859882503 2019-10-25 19:40:48 Eastern Daylight Time <realDonaldTrump> Great Book! https://twitter.com/JesseBWatters/status/1187795599241949184 …\n",
      "1187876420342689792 2019-10-25 19:39:42 Eastern Daylight Time <realDonaldTrump> Wow! https://twitter.com/jim_jordan/status/1187820031645798401 …\n",
      "1187874908660998144 2019-10-25 19:33:42 Eastern Daylight Time <realDonaldTrump> My lawyers should sue the Democrats and Shifty Adam Schiff for fraud!\n",
      "1187874124976271362 2019-10-25 19:30:35 Eastern Daylight Time <realDonaldTrump> ....The entire Impeachment Scam was based on my perfect Ukrainian call, and the Whistleblowers account of that call, which turned out to be false (a fraud?). Once I released the actual call, their entire case fell apart. The Democrats must end this Scam now. Witch Hunt!\n",
      "1187874122279337987 2019-10-25 19:30:35 Eastern Daylight Time <realDonaldTrump> Democrats just announced that they no longer want the Whistleblower to testify. But everything was about the Whistleblower (they no longer want the second Whistleblower either), which they don’t want because the account of my call bore NO RELATIONSHIP to the call itself.....\n",
      "1187861209942495234 2019-10-25 18:39:16 Eastern Daylight Time <realDonaldTrump> To Tim: The Button on the IPhone was FAR better than the Swipe!\n",
      "1187838852255244288 2019-10-25 17:10:26 Eastern Daylight Time <realDonaldTrump> ....in the basement of the United States Capitol! They cannot win at the ballot box. Their sham for the past 3 years continues. The good news is that the American People get it, which will be proven once again on November 3, 2020!\n",
      "1187838848732020737 2019-10-25 17:10:25 Eastern Daylight Time <realDonaldTrump> I appreciate the support of Senator @LindseyGraham, @SenateMajLdr Mitch McConnell, and their Great Senate Republican colleagues, on the resolution condemning the Do Nothing Democrats for their Witch Hunt Impeachment inquiry, behind closed doors....\n"
     ]
    }
   ],
   "source": [
    "twint.run.Search(c)"
   ]
  },
  {
   "cell_type": "code",
   "execution_count": 4,
   "metadata": {},
   "outputs": [],
   "source": [
    "#Create a configuratin session\n",
    "c = twint.Config()\n",
    "#Define search keywords\n",
    "c.Search = \"\\\"McDonalds\\\" OR \\\"Mc Donalds\\\"\"  \n",
    "\n",
    "#c.Custom[\"tweet\"] = [\"username\", 'location', 'followers', 'tweet']\n",
    "\n",
    "c.Format = \"Username {username} | Location {location} | Followers {followers} | Tweet {tweet}\"\n",
    "\n",
    "c.Output = \"McDonalds.json\"\n",
    "c.Store_json = True\n",
    "c.Output = \"McDonalds.csv\"\n",
    "c.Store_csv = True\n",
    "c.Limit=150"
   ]
  },
  {
   "cell_type": "code",
   "execution_count": 5,
   "metadata": {},
   "outputs": [
    {
     "ename": "RuntimeError",
     "evalue": "This event loop is already running",
     "output_type": "error",
     "traceback": [
      "\u001b[1;31m---------------------------------------------------------------------------\u001b[0m",
      "\u001b[1;31mRuntimeError\u001b[0m                              Traceback (most recent call last)",
      "\u001b[1;32m<ipython-input-5-f28f8e9aab1e>\u001b[0m in \u001b[0;36m<module>\u001b[1;34m\u001b[0m\n\u001b[1;32m----> 1\u001b[1;33m \u001b[0mtwint\u001b[0m\u001b[1;33m.\u001b[0m\u001b[0mrun\u001b[0m\u001b[1;33m.\u001b[0m\u001b[0mSearch\u001b[0m\u001b[1;33m(\u001b[0m\u001b[0mc\u001b[0m\u001b[1;33m)\u001b[0m\u001b[1;33m\u001b[0m\u001b[1;33m\u001b[0m\u001b[0m\n\u001b[0m",
      "\u001b[1;32m~\\Anaconda3\\lib\\site-packages\\twint\\run.py\u001b[0m in \u001b[0;36mSearch\u001b[1;34m(config, callback)\u001b[0m\n\u001b[0;32m    290\u001b[0m     \u001b[0mconfig\u001b[0m\u001b[1;33m.\u001b[0m\u001b[0mProfile\u001b[0m \u001b[1;33m=\u001b[0m \u001b[1;32mFalse\u001b[0m\u001b[1;33m\u001b[0m\u001b[1;33m\u001b[0m\u001b[0m\n\u001b[0;32m    291\u001b[0m     \u001b[0mconfig\u001b[0m\u001b[1;33m.\u001b[0m\u001b[0mProfile_full\u001b[0m \u001b[1;33m=\u001b[0m \u001b[1;32mFalse\u001b[0m\u001b[1;33m\u001b[0m\u001b[1;33m\u001b[0m\u001b[0m\n\u001b[1;32m--> 292\u001b[1;33m     \u001b[0mrun\u001b[0m\u001b[1;33m(\u001b[0m\u001b[0mconfig\u001b[0m\u001b[1;33m,\u001b[0m \u001b[0mcallback\u001b[0m\u001b[1;33m)\u001b[0m\u001b[1;33m\u001b[0m\u001b[1;33m\u001b[0m\u001b[0m\n\u001b[0m\u001b[0;32m    293\u001b[0m     \u001b[1;32mif\u001b[0m \u001b[0mconfig\u001b[0m\u001b[1;33m.\u001b[0m\u001b[0mPandas_au\u001b[0m\u001b[1;33m:\u001b[0m\u001b[1;33m\u001b[0m\u001b[1;33m\u001b[0m\u001b[0m\n\u001b[0;32m    294\u001b[0m         \u001b[0mstorage\u001b[0m\u001b[1;33m.\u001b[0m\u001b[0mpanda\u001b[0m\u001b[1;33m.\u001b[0m\u001b[0m_autoget\u001b[0m\u001b[1;33m(\u001b[0m\u001b[1;34m\"tweet\"\u001b[0m\u001b[1;33m)\u001b[0m\u001b[1;33m\u001b[0m\u001b[1;33m\u001b[0m\u001b[0m\n",
      "\u001b[1;32m~\\Anaconda3\\lib\\site-packages\\twint\\run.py\u001b[0m in \u001b[0;36mrun\u001b[1;34m(config, callback)\u001b[0m\n\u001b[0;32m    211\u001b[0m \u001b[1;32mdef\u001b[0m \u001b[0mrun\u001b[0m\u001b[1;33m(\u001b[0m\u001b[0mconfig\u001b[0m\u001b[1;33m,\u001b[0m \u001b[0mcallback\u001b[0m\u001b[1;33m=\u001b[0m\u001b[1;32mNone\u001b[0m\u001b[1;33m)\u001b[0m\u001b[1;33m:\u001b[0m\u001b[1;33m\u001b[0m\u001b[1;33m\u001b[0m\u001b[0m\n\u001b[0;32m    212\u001b[0m     \u001b[0mlogme\u001b[0m\u001b[1;33m.\u001b[0m\u001b[0mdebug\u001b[0m\u001b[1;33m(\u001b[0m\u001b[0m__name__\u001b[0m\u001b[1;33m+\u001b[0m\u001b[1;34m':run'\u001b[0m\u001b[1;33m)\u001b[0m\u001b[1;33m\u001b[0m\u001b[1;33m\u001b[0m\u001b[0m\n\u001b[1;32m--> 213\u001b[1;33m     \u001b[0mget_event_loop\u001b[0m\u001b[1;33m(\u001b[0m\u001b[1;33m)\u001b[0m\u001b[1;33m.\u001b[0m\u001b[0mrun_until_complete\u001b[0m\u001b[1;33m(\u001b[0m\u001b[0mTwint\u001b[0m\u001b[1;33m(\u001b[0m\u001b[0mconfig\u001b[0m\u001b[1;33m)\u001b[0m\u001b[1;33m.\u001b[0m\u001b[0mmain\u001b[0m\u001b[1;33m(\u001b[0m\u001b[0mcallback\u001b[0m\u001b[1;33m)\u001b[0m\u001b[1;33m)\u001b[0m\u001b[1;33m\u001b[0m\u001b[1;33m\u001b[0m\u001b[0m\n\u001b[0m\u001b[0;32m    214\u001b[0m \u001b[1;33m\u001b[0m\u001b[0m\n\u001b[0;32m    215\u001b[0m \u001b[1;32mdef\u001b[0m \u001b[0mFavorites\u001b[0m\u001b[1;33m(\u001b[0m\u001b[0mconfig\u001b[0m\u001b[1;33m)\u001b[0m\u001b[1;33m:\u001b[0m\u001b[1;33m\u001b[0m\u001b[1;33m\u001b[0m\u001b[0m\n",
      "\u001b[1;32m~\\Anaconda3\\lib\\asyncio\\base_events.py\u001b[0m in \u001b[0;36mrun_until_complete\u001b[1;34m(self, future)\u001b[0m\n\u001b[0;32m    569\u001b[0m         \u001b[0mfuture\u001b[0m\u001b[1;33m.\u001b[0m\u001b[0madd_done_callback\u001b[0m\u001b[1;33m(\u001b[0m\u001b[0m_run_until_complete_cb\u001b[0m\u001b[1;33m)\u001b[0m\u001b[1;33m\u001b[0m\u001b[1;33m\u001b[0m\u001b[0m\n\u001b[0;32m    570\u001b[0m         \u001b[1;32mtry\u001b[0m\u001b[1;33m:\u001b[0m\u001b[1;33m\u001b[0m\u001b[1;33m\u001b[0m\u001b[0m\n\u001b[1;32m--> 571\u001b[1;33m             \u001b[0mself\u001b[0m\u001b[1;33m.\u001b[0m\u001b[0mrun_forever\u001b[0m\u001b[1;33m(\u001b[0m\u001b[1;33m)\u001b[0m\u001b[1;33m\u001b[0m\u001b[1;33m\u001b[0m\u001b[0m\n\u001b[0m\u001b[0;32m    572\u001b[0m         \u001b[1;32mexcept\u001b[0m\u001b[1;33m:\u001b[0m\u001b[1;33m\u001b[0m\u001b[1;33m\u001b[0m\u001b[0m\n\u001b[0;32m    573\u001b[0m             \u001b[1;32mif\u001b[0m \u001b[0mnew_task\u001b[0m \u001b[1;32mand\u001b[0m \u001b[0mfuture\u001b[0m\u001b[1;33m.\u001b[0m\u001b[0mdone\u001b[0m\u001b[1;33m(\u001b[0m\u001b[1;33m)\u001b[0m \u001b[1;32mand\u001b[0m \u001b[1;32mnot\u001b[0m \u001b[0mfuture\u001b[0m\u001b[1;33m.\u001b[0m\u001b[0mcancelled\u001b[0m\u001b[1;33m(\u001b[0m\u001b[1;33m)\u001b[0m\u001b[1;33m:\u001b[0m\u001b[1;33m\u001b[0m\u001b[1;33m\u001b[0m\u001b[0m\n",
      "\u001b[1;32m~\\Anaconda3\\lib\\asyncio\\base_events.py\u001b[0m in \u001b[0;36mrun_forever\u001b[1;34m(self)\u001b[0m\n\u001b[0;32m    524\u001b[0m         \u001b[0mself\u001b[0m\u001b[1;33m.\u001b[0m\u001b[0m_check_closed\u001b[0m\u001b[1;33m(\u001b[0m\u001b[1;33m)\u001b[0m\u001b[1;33m\u001b[0m\u001b[1;33m\u001b[0m\u001b[0m\n\u001b[0;32m    525\u001b[0m         \u001b[1;32mif\u001b[0m \u001b[0mself\u001b[0m\u001b[1;33m.\u001b[0m\u001b[0mis_running\u001b[0m\u001b[1;33m(\u001b[0m\u001b[1;33m)\u001b[0m\u001b[1;33m:\u001b[0m\u001b[1;33m\u001b[0m\u001b[1;33m\u001b[0m\u001b[0m\n\u001b[1;32m--> 526\u001b[1;33m             \u001b[1;32mraise\u001b[0m \u001b[0mRuntimeError\u001b[0m\u001b[1;33m(\u001b[0m\u001b[1;34m'This event loop is already running'\u001b[0m\u001b[1;33m)\u001b[0m\u001b[1;33m\u001b[0m\u001b[1;33m\u001b[0m\u001b[0m\n\u001b[0m\u001b[0;32m    527\u001b[0m         \u001b[1;32mif\u001b[0m \u001b[0mevents\u001b[0m\u001b[1;33m.\u001b[0m\u001b[0m_get_running_loop\u001b[0m\u001b[1;33m(\u001b[0m\u001b[1;33m)\u001b[0m \u001b[1;32mis\u001b[0m \u001b[1;32mnot\u001b[0m \u001b[1;32mNone\u001b[0m\u001b[1;33m:\u001b[0m\u001b[1;33m\u001b[0m\u001b[1;33m\u001b[0m\u001b[0m\n\u001b[0;32m    528\u001b[0m             raise RuntimeError(\n",
      "\u001b[1;31mRuntimeError\u001b[0m: This event loop is already running"
     ]
    },
    {
     "name": "stdout",
     "output_type": "stream",
     "text": [
      "Username luanalandscheck | Location {location} | Followers {followers} | Tweet tava triste, pedi um mc donalds pra ficar feliz e veio tudo errado, fiquei mais triste\n",
      "Username atdiana77 | Location {location} | Followers {followers} | Tweet Ladies Finger ; Nails , Licking Good🖐- McDonalds\n",
      "Username RichelleLOL | Location {location} | Followers {followers} | Tweet Mc donalds is expensive dude\n",
      "Username Luaanmake | Location {location} | Followers {followers} | Tweet Fui hj no Mcdonalds e nem teve graça 😰\n",
      "Username eccdnet | Location {location} | Followers {followers} | Tweet Original Top Handy Rabatt Gutschein 20 € (Mc Donalds Monopoly 2019)  https://www.gutschein.koeln/original-top-handy-rabatt-gutschein-20-e-mc-donalds-monopoly-2019/ … pic.twitter.com/WQ8XlESp6w\n",
      "Username Leooooooow | Location {location} | Followers {followers} | Tweet Ptdrrrrrr une réduction RI-DI-CULE a l'échelle mondiale mais bon, leur campagne marketting fait son effet sur les masses c'est l'essentiel, ils peuvent continuer de polluer comme des porcs en élevage etc en se faisant bien voir avec des opérations comme celle-là ils ont raison 😂\n",
      "Username RobThomasComedy | Location {location} | Followers {followers} | Tweet HEY ROB HOW'S VEGANISM GOING?\n",
      "\n",
      "well last night after a gig I had 3 large fries from McDonalds.\n",
      "\n",
      "So piece of piss\n",
      "Username StewartFriday | Location {location} | Followers {followers} | Tweet They may get technically 15/hr... but they only end with 25 hours... and cry every week as they roll a 100 pieces of silver for 2.00 in tips per table. Customers believe if they arent going to McDonalds that there server is getting paid great to get them 15 teas w/free refills...  https://twitter.com/StewartFriday/status/1196141649409323008 …\n",
      "Username cheryl81699253 | Location {location} | Followers {followers} | Tweet I worked a 4 hour shift at @McDonalds  and never returned. Literally the only job I’ve never given a notice. They had me all the way fucked up and only paid  $8.25.\n",
      "Username Vanquishing | Location {location} | Followers {followers} | Tweet Never knew about the kid till he joined TapX and then left to join DooM 30 mins later LMAO momma said you better make more then $100 a month or you working at mcdonalds 💀\n",
      "Username PotatoSol | Location {location} | Followers {followers} | Tweet \"peter i need your address and also what time will you be ready, also do you wanna get mcdonalds on the way?\"\n",
      "\n",
      "\"yea sure\"\n",
      "Username nalupixote | Location {location} | Followers {followers} | Tweet imagina nada nessa aguona de esgoto rato peste bulbonica guardanapo do mcdonalds gente que nojo  https://twitter.com/keuriguerra/status/1195487006215868416 …\n",
      "Username coleogui | Location {location} | Followers {followers} | Tweet “about to go to mcdonalds before school swag” -playboi carti  pic.twitter.com/qxeMb0dcWo\n",
      "Username Love_McD | Location {location} | Followers {followers} | Tweet #シナモンメルツ との #しあわせがすぎる再会 がすぐそこに✨✨\n",
      "11/20 (水)から使えるしあわせクーポンプレゼント！\n",
      "シナモンシュガーと、とろ～り甘いクリームチーズ風味のシロップを楽しんで😍😍 #しあわせがすぎる再会キャンペーン @McDonaldsJapan\n",
      " http://w.mdj.jp/1a13bf?ts=20191118081758 … pic.twitter.com/mNOFWjqwXu\n",
      "Username Love_McD | Location {location} | Followers {followers} | Tweet #シナモンメルツ との #しあわせがすぎる再会 がすぐそこに✨✨\n",
      "11/20 (水)から使えるしあわせクーポンプレゼント！\n",
      "シナモンシュガーと、とろ～り甘いクリームチーズ風味のシロップを楽しんで😍😍 #しあわせがすぎる再会キャンペーン @McDonaldsJapan\n",
      " http://w.mdj.jp/1a13bf?ts=20191118081755 … pic.twitter.com/K8B6HMBhJQ\n",
      "Username eldisco13 | Location {location} | Followers {followers} | Tweet Hubiese pensado que estaba McDonalds\n",
      "Username claralim03 | Location {location} | Followers {followers} | Tweet Kkkkkkk 2,75 uma casquinha do mc donalds boe, só podia ter droga dento msm pra ser um roubo desse\n",
      "Username yejisforehead | Location {location} | Followers {followers} | Tweet do i save money....do i buy mcdonalds....do i save......do i buy........money................mcdonalds.........................save.................................buy.......................................................   pic.twitter.com/r7F90nZAp1\n",
      "Username BlessedBot6009 | Location {location} | Followers {followers} | Tweet blessed_mcdonalds_employee\n",
      " #mcdonalds_employee pic.twitter.com/NhupbHFwgl\n",
      "Username gonersforest | Location {location} | Followers {followers} | Tweet deadass the last time i cried this hard was half a year ago when i found out * liked someone else ma‘am are you okay this is a mcdonalds drive thru .\n",
      "Username TchKrieger | Location {location} | Followers {followers} | Tweet I always remember her reading a book in the car when she brought you to the Answer for Cancer fundraiser at McDonalds 🍔🍟She raised a good son.\n",
      "Username EleizabethM | Location {location} | Followers {followers} | Tweet Estoy hablando más en temas de cocina más elaborada, ya cuando es mcdonalds si tienen preferencias hagan lo q quieran\n",
      "Username Love_McD | Location {location} | Followers {followers} | Tweet #シナモンメルツ との #しあわせがすぎる再会 がすぐそこに✨✨\n",
      "11/20 (水)から使えるしあわせクーポンプレゼント！\n",
      "シナモンシュガーと、とろ～り甘いクリームチーズ風味のシロップを楽しんで😍😍 #しあわせがすぎる再会キャンペーン @McDonaldsJapan\n",
      " http://w.mdj.jp/1a13bf?ts=20191118081650 … pic.twitter.com/4tr46yKWqO\n",
      "Username ISLANDGIRLQTPIE | Location {location} | Followers {followers} | Tweet Wtf is a phase one??? 😂😂😂😂 We people who have sense know that he is a health risk eating McDonalds burgers all dame day. A grown ass man who is really a damn kid. Remember this day when he tries to say he’s leaving the Oval Office due to his health. His ass is all good.\n",
      "Username AuntyLeLe | Location {location} | Followers {followers} | Tweet Lets make an ad that masks the killing of millions of animals. McDonalds equals murder, suffering and never a time of celebration. You can stick your ad where the sun don't shine! #vegan #GameChanger #ClimateChange #ReindeerReady\n",
      "Username hawkjay01 | Location {location} | Followers {followers} | Tweet Let’s feed him as much McDonalds and fast food as we can. MAGA.\n",
      "Username Stevenmck4 | Location {location} | Followers {followers} | Tweet McDonalds christmas advert is better than john Lewis one 🤷‍♂️\n",
      "Username scottydonline | Location {location} | Followers {followers} | Tweet I’m so excited! If you’ve never looked at the bottom of a current @McDonalds #HappyMeal, it shows you what the next series will be. I looked at one we bought today which is a #Frozen2 Happy Meal and up next is @starwars #TheRiseofSkywalker ! pic.twitter.com/mx0GTB8jAv\n",
      "Username CLieneck | Location {location} | Followers {followers} | Tweet You're an influencer! Start a trend!\n",
      "Username mrneveratrest | Location {location} | Followers {followers} | Tweet 6/ When I joke around in class, use The Avengers or McDonalds as an example instead of some hypothetical scenario from some moldy old book they have no interest in, they understand the subject and make other connections on their own.\n",
      "Username luish_cor | Location {location} | Followers {followers} | Tweet La máquina de nieve descompuesta de McDonalds es la segunda caja del oxxo para los gringos\n",
      "Username Marty_Le_Moose | Location {location} | Followers {followers} | Tweet I can't express my joy enough that #mcdonalds has the #smarties #mcflurry back on the menu!\n",
      "Username RickyMGaming | Location {location} | Followers {followers} | Tweet it will not be my sister mcdonalds erectile dysfunction sister\n",
      "Username notjimmy5200 | Location {location} | Followers {followers} | Tweet finally you're revealing that you've been living in a box truck the whole time and thats why theres been no good wifi\n",
      "\n",
      "i heard mc donalds wifi isnt good for streaming\n",
      "\n",
      "lol cant wait for an upload\n",
      "Username RyanConner522 | Location {location} | Followers {followers} | Tweet @McDonalds my DOUBLE quarter pounder is a single.  Thanks for yet another mistake paid for by me\n",
      "Username irisluarte | Location {location} | Followers {followers} | Tweet Só lindos\n",
      "Username ohmylordeitslmc | Location {location} | Followers {followers} | Tweet Love y'all to death... but, how on EARTH on you gonna eat all that food?? I'm having flashbacks lol. ❤❤\n",
      "Username tainandrade_ | Location {location} | Followers {followers} | Tweet Mc Donalds poderia fazer um canudo de papelão resistente pq eu coloco no milkshake ele parece uma amoeba\n",
      "Username JimNoise | Location {location} | Followers {followers} | Tweet Hi McDonalds, love your restaurants, especially the opening hours, but you know what's ALSO really cool right now? Hemp plastic. Yeah. Also, pay your hardworking staff more, they deserve it 👍\n",
      "Username kurt81047639 | Location {location} | Followers {followers} | Tweet  pic.twitter.com/M0LV5Xplhi\n"
     ]
    },
    {
     "name": "stdout",
     "output_type": "stream",
     "text": [
      "Username rosejuls77 | Location {location} | Followers {followers} | Tweet I made 1 pound 25 pence an hour working on the front lines of McDonalds in Picadilly Circus and Baker St in London.\n",
      "\n",
      "The Brits only had Wimpey Burgers and there were lines around the block to eat an American beef burger....\n",
      "\n",
      "This was an experience never forgotten at age 16.  https://twitter.com/JackPosobiec/status/1195795846714949632 …\n",
      "Username McdonaldsOrders | Location {location} | Followers {followers} | Tweet howdy! can I get five hash browns and a medium half sprite half fanta mix? i would also like for you to included extra napkins in the bag please.\n",
      "Username gabosp | Location {location} | Followers {followers} | Tweet No puedo creer que existe un McDonalds que vende pizza y pastas 😲\n",
      "Username CastilhoKhadija | Location {location} | Followers {followers} | Tweet o ifood me irritou pedi mc donalds pelo rappi\n",
      "Username TheJenCarey | Location {location} | Followers {followers} | Tweet I feel like they will taste terribly dipped in sweet and sour sauce!\n",
      "Username SpinelSays | Location {location} | Followers {followers} | Tweet Spinel Says: Gee it's swell to finally meet Ronald McDonalds other friends!\n",
      "Username legallybenjamin | Location {location} | Followers {followers} | Tweet wish mcdonalds had an all you can eat buffet\n",
      "Username jinbiscuit | Location {location} | Followers {followers} | Tweet was taking a nap and had a dream that i was @ a mcdonalds and taehyung was in the file to pay his order and he paid mine for no reason  🥺 i dont eat in mcdonalds but that was so sweet\n",
      "Username CLieneck | Location {location} | Followers {followers} | Tweet A sausage nugget! Must be a new secret ad campaign.\n",
      "Username FrostGH_ | Location {location} | Followers {followers} | Tweet Yo la veo mas en el Mc Donalds\n",
      "Username ArenChickenBone | Location {location} | Followers {followers} | Tweet McDonalds has the most diverse customer base, they got crackheads, businessmen, & everyone in between\n",
      "Username BabyHuey420 | Location {location} | Followers {followers} | Tweet Whatever happens I hope SDNY still goes after him. Someone needs to lock him up & get him away from his Twitter account so he doesn’t call for more chaos. If McDonalds gets his order wrong he burns the country to the ground. Smh\n",
      "Username fonzwolf | Location {location} | Followers {followers} | Tweet how do y'all still eat McDonalds\n",
      "Username israelizreal | Location {location} | Followers {followers} | Tweet You hate capitalism but you dipped your iPhone in mcdonalds sprite while eating ass\n",
      "Username polygraphsandra | Location {location} | Followers {followers} | Tweet me? saying bye to dom? and crying over it in a mcdonalds? more likely than u think\n",
      "Username 1888Pancho | Location {location} | Followers {followers} | Tweet Cayuqueo y la nueva versión de \"comunista comiendo en Mc.Donalds\".\n",
      "Así de weón fué el emplazamiento.\n",
      "Username ruthanitaa | Location {location} | Followers {followers} | Tweet Queria muuuito um hambúrguer do mc donalds\n",
      "Username Kerryon | Location {location} | Followers {followers} | Tweet but that map is definitely fake mcdonalds or culvers is definitely favored here\n",
      "Username shawnwenzel | Location {location} | Followers {followers} | Tweet McDonalds has these kiosks in Canada too.\n",
      "Username buyWeed4i20 | Location {location} | Followers {followers} | Tweet Uma ÓTIMA ideia, fica dica.\n",
      ".\n",
      ".\n",
      ".\n",
      ".\n",
      "#McDonalds #cannabis #marijuana pic.twitter.com/I2HvdEOUC1\n",
      "Username gabrie_duran | Location {location} | Followers {followers} | Tweet @mcdonalds hire me at your 4th ave location in yuma az my name is Gabriel duran jr - much appreciated\n",
      "Username LzrdYT | Location {location} | Followers {followers} | Tweet Soooo... I'm not sure if I just found a beard hair for a pube in my mcdonalds fries.. buuuuut I'm gonna completely disregard it.\n",
      "Username cihancobanoglu | Location {location} | Followers {followers} | Tweet McDonalds new self-ordering kiosks do not accept cash! And thus cannot benefit to the 8.4 million US households not having bank cards\n",
      "\n",
      " https://www.providencejournal.com/news/20191116/mcdonalds-orders-up-kiosks-that-dont-accept-cash-for-some-customers-thats-problem …\n",
      "Username Love_McD | Location {location} | Followers {followers} | Tweet #シナモンメルツ との #しあわせがすぎる再会 がすぐそこに✨✨\n",
      "11/20 (水)から使えるしあわせクーポンプレゼント！\n",
      "シナモンシュガーと、とろ～り甘いクリームチーズ風味のシロップを楽しんで😍😍 #しあわせがすぎる再会キャンペーン @McDonaldsJapan\n",
      " http://w.mdj.jp/1a13bf?ts=20191118080954 … pic.twitter.com/DrIbQ2W6og\n",
      "Username CheeksEasy | Location {location} | Followers {followers} | Tweet This man snitched on himself @McDonalds is gonna sue him for \n",
      "- 5200 hours \n",
      "- 1 Nugget per Hour\n",
      "- .44c /Nugget x 5200 hrs \n",
      "=.   $2,288  https://twitter.com/codybondarchuk/status/1195498506640744449 …\n",
      "Username TheCookingDojo | Location {location} | Followers {followers} | Tweet For me it was the food court when I was a kid. I was never allowed to have money to go to the arcade. I always loved getting mcdonalds every Saturday.\n",
      "Username GEKID0U | Location {location} | Followers {followers} | Tweet me\n",
      "Username Love_McD | Location {location} | Followers {followers} | Tweet #シナモンメルツ との #しあわせがすぎる再会 がすぐそこに✨✨\n",
      "11/20 (水)から使えるしあわせクーポンプレゼント！\n",
      "シナモンシュガーと、とろ～り甘いクリームチーズ風味のシロップを楽しんで😍😍 #しあわせがすぎる再会キャンペーン @McDonaldsJapan\n",
      " http://w.mdj.jp/1a13bf?ts=20191118080932 … pic.twitter.com/ML7Ie52eAm\n",
      "Username aninha02196 | Location {location} | Followers {followers} | Tweet Era só um mc donalds hj de novo 😫😫😫\n",
      "Username CEDA042 | Location {location} | Followers {followers} | Tweet A McDonalds sprite is crucial in having a good Sunday\n",
      "Username SpiceFan05 | Location {location} | Followers {followers} | Tweet Totally went off at  McDonald’s when they played When you’re  gone 😂😂😂 luckily no people were around 🙈🤣 @MelanieCmusic #mcdonalds #fangirl pic.twitter.com/BragohPGGI\n",
      "Username SofidelFierro | Location {location} | Followers {followers} | Tweet cuántos helados del mcdonalds me tengo que comer para que se me pase el antojo 😭\n",
      "Username m_larock | Location {location} | Followers {followers} | Tweet Hey @McDonalds, why haven't you signed up to the Better Chicken Commitment?  http://sumof.us/578398870t?referring_akid=52554.9906026.Y9Vehg&referring_source=fwd …\n",
      "Username GEKID0U | Location {location} | Followers {followers} | Tweet just one\n",
      "Username MaryG0401 | Location {location} | Followers {followers} | Tweet I need many napkins 😂\n",
      "Username campdinkey | Location {location} | Followers {followers} | Tweet The Man Tom........\n",
      "Username McDonalds | Location {location} | Followers {followers} | Tweet We're diggin your enthusiasm, Sam! We always knew you had great taste! 😄\n",
      "Username MOOMANiBE | Location {location} | Followers {followers} | Tweet a&w/mcdonalds/church's chicken owns this province, they're literaly everywhere\n",
      "Username prairie_rex | Location {location} | Followers {followers} | Tweet Hey @McDonalds when I was in high school my mom couldn’t always afford WiFi. My local McDonald’s always let me stay and work on homework (on my cellphone which had no service and only worked on WiFi). Not pleased to see this policy. \n",
      "\n",
      "#disappointed #classism pic.twitter.com/Xztmt4kOfZ\n",
      "Username JaredUpham | Location {location} | Followers {followers} | Tweet On this day 1 year ago @princ3sslarissa brought me a mcdonalds Powerade when I was in dyer need....and for that I am forever grateful 😂\n",
      "Username Gaylesie1 | Location {location} | Followers {followers} | Tweet Absolutely love McDs Christmas advert #Christmas #mcdonalds #Christmasadvert\n",
      "Username Automated_Pod | Location {location} | Followers {followers} | Tweet Episode 12 looks at how full automation is breaking into retail and fast food. \n",
      "\n",
      " https://automatedpodcast.org/ep-12-how-automation-is-disrupting-retail-and-fast-food/ …\n",
      "#Automation #Jobs #mcdonalds  pic.twitter.com/xUvjBWvjit\n",
      "Username JoeAconite | Location {location} | Followers {followers} | Tweet He's pregnant with a food baby.\n",
      "Now we need Maury to schedule McDonalds, Burger King and KFC for paternity show.\n",
      "Username McDonalds | Location {location} | Followers {followers} | Tweet Alert! We have a McD’s emergency! Someone get Sarah a Big Mac (with extra, extra, extra pickles) stat! 🚨 🍔\n",
      "Username oppuc3 | Location {location} | Followers {followers} | Tweet Imagine if oppuc3 was called a cunt for working at McDonalds\n",
      "Username AceAtMcDonalds | Location {location} | Followers {followers} | Tweet kcab ih\n",
      "Username ilyemilyem | Location {location} | Followers {followers} | Tweet Hate that McDonalds christmas advert. I hate the way everything ways makes put as of older sisters are these nasty, evil bitches to their younger siblings. Some of us actually love our little brothers or sisters you know\n",
      "Username HobsteterJuli | Location {location} | Followers {followers} | Tweet alguien que haya laburado en mc donalds me habla gracias\n",
      "Username KEROLYNrblx | Location {location} | Followers {followers} | Tweet a mcdonalds bathroom has never looked betta\n",
      "Username pstellfox17 | Location {location} | Followers {followers} | Tweet When you have a pregnancy craving for a chocolate shake but the @McDonalds shake machine is “broken” as always... on to @BurgerKing!\n",
      "Username Cigar2 | Location {location} | Followers {followers} | Tweet I'm at @McDonalds in Terre Haute, IN  https://www.swarmapp.com/c/lwxSx35z9Tk \n",
      "Username PokemonDealsUS | Location {location} | Followers {followers} | Tweet #Pokemon Japanese McDonalds promo Sunset Mew 33P BGS Pristine 10 #ebay 🔥🔗 https://www.satakore.com/retrodeals448990,,Pokemon-Japanese-McDonalds-promo-Sunset-Mew-33P-BGS-Pristine-10.html … pic.twitter.com/wzS8Miuvqc\n",
      "Username hellcatwrecksum | Location {location} | Followers {followers} | Tweet burgers from mcdonalds are gross, checkers >>\n",
      "Username oneromybur | Location {location} | Followers {followers} | Tweet mcdonalds is ass\n",
      "Username Love_McD | Location {location} | Followers {followers} | Tweet #シナモンメルツ との #しあわせがすぎる再会 がすぐそこに✨✨\n",
      "11/20 (水)から使えるしあわせクーポンプレゼント！\n",
      "シナモンシュガーと、とろ～り甘いクリームチーズ風味のシロップを楽しんで😍😍 #しあわせがすぎる再会キャンペーン @McDonaldsJapan\n",
      " http://w.mdj.jp/1a13bf?ts=20191118080543 … pic.twitter.com/hfOGuGQy14\n"
     ]
    },
    {
     "name": "stdout",
     "output_type": "stream",
     "text": [
      "Username _mpablo | Location {location} | Followers {followers} | Tweet Vou comemorar essa vitoria/título  do Mengão no mc'donalds, partiu ? Tô pagando\n",
      "Username Love_McD | Location {location} | Followers {followers} | Tweet #シナモンメルツ との #しあわせがすぎる再会 がすぐそこに✨✨\n",
      "11/20 (水)から使えるしあわせクーポンプレゼント！\n",
      "シナモンシュガーと、とろ～り甘いクリームチーズ風味のシロップを楽しんで😍😍 #しあわせがすぎる再会キャンペーン @McDonaldsJapan\n",
      " http://w.mdj.jp/1a13bf?ts=20191118080528 … pic.twitter.com/wFlVRcALvq\n",
      "Username kdaakali | Location {location} | Followers {followers} | Tweet just had a mcdonalds quarter pounder im the happiest pika alive\n",
      "Username haileebot | Location {location} | Followers {followers} | Tweet you mean we're going to mcdonalds?\n",
      "Username PeterBalkus1 | Location {location} | Followers {followers} | Tweet I'm in @mcdonalds I will check your  stream later on\n"
     ]
    },
    {
     "name": "stderr",
     "output_type": "stream",
     "text": [
      "CRITICAL:root:twint.output:_output:CSV:Error:[Errno 13] Permission denied: 'McDonalds.csv'\n",
      "CRITICAL:root:twint.output:_output:CSV:Error:[Errno 13] Permission denied: 'McDonalds.csv'\n",
      "CRITICAL:root:twint.output:_output:CSV:Error:[Errno 13] Permission denied: 'McDonalds.csv'\n",
      "CRITICAL:root:twint.output:_output:CSV:Error:[Errno 13] Permission denied: 'McDonalds.csv'\n"
     ]
    },
    {
     "name": "stdout",
     "output_type": "stream",
     "text": [
      "Username BonesOfComedy | Location {location} | Followers {followers} | Tweet Literally. Right before this I asked for McDonald’s and my mom said and I quote “al pràn McDonalds nan tèt Papa’ou”\n",
      "Username eater1290 | Location {location} | Followers {followers} | Tweet 5.50 at McDonalds\n",
      "Username Yannie10_ | Location {location} | Followers {followers} | Tweet I need another job! Who Hiring?? ; NO McDonalds 🤷🏾‍♀️\n",
      "Username BogusDickGrimm | Location {location} | Followers {followers} | Tweet If I was Hillary Clinton, I'd send @McDonalds gift cards to Trump for every conceivable holiday.\n",
      "Username gbmec_sal | Location {location} | Followers {followers} | Tweet [17/11 20:02] Mãe: Tá em casa\n",
      "[17/11 20:02] Gabriel: sim\n",
      "[17/11 20:03] Mãe: Partiu Mcdonalds\n",
      "🥰🥰🥰\n",
      "Username moetweets1 | Location {location} | Followers {followers} | Tweet DELETE\n",
      "Username McdonaldsOrders | Location {location} | Followers {followers} | Tweet are you finally ready to take my order? could I get a snack size mcflurry with m&ms? i was craving this all day!\n",
      "[Errno 13] Permission denied: 'McDonalds.csv' [x] output._output\n",
      "Username intensing | Location {location} | Followers {followers} | Tweet Trump is fat and smells like a mcdonalds toilet stall.\n",
      "[Errno 13] Permission denied: 'McDonalds.csv' [x] output._output\n",
      "Username Noelorente | Location {location} | Followers {followers} | Tweet @mcdonalds_es SIEMPRE que pido algo a casa son problemas\n",
      "[Errno 13] Permission denied: 'McDonalds.csv' [x] output._output\n",
      "Username DelBullanguero | Location {location} | Followers {followers} | Tweet Como ahora tienen \"acuerdo\", pueden ir a los Mall a endeudarse, les esperan los bancos, supermercados en vez del almacén del vecino, vayan  a comer al Mc Donalds, pueden ir apretados en el Metro sin dejar de lado la farándula de la TV esa es su normalidad.\n",
      "[Errno 13] Permission denied: 'McDonalds.csv' [x] output._output\n",
      "Username liquidMcDonalds | Location {location} | Followers {followers} | Tweet I'M GIVING YOU THE POWER OF CHOICE\n"
     ]
    },
    {
     "name": "stderr",
     "output_type": "stream",
     "text": [
      "CRITICAL:root:twint.output:_output:CSV:Error:[Errno 13] Permission denied: 'McDonalds.csv'\n",
      "CRITICAL:root:twint.output:_output:CSV:Error:[Errno 13] Permission denied: 'McDonalds.csv'\n"
     ]
    },
    {
     "name": "stdout",
     "output_type": "stream",
     "text": [
      "[Errno 13] Permission denied: 'McDonalds.csv' [x] output._output\n",
      "Username Jo3l_NYY_617 | Location {location} | Followers {followers} | Tweet Just last week I was eating Paella’s, Tapas, bomb ass stakes, and drinking sangria on the beach. Now I’m working a 12 hour shift on a 35 degree night with MCdonalds on the way. Deff…  https://www.instagram.com/p/B4--VTNgM8bN8Lp7pWfkW9mNpRwva6LBkjT1400/?igshid=xuuuje4chusr …\n",
      "[Errno 13] Permission denied: 'McDonalds.csv' [x] output._output\n",
      "Username dearjohns | Location {location} | Followers {followers} | Tweet well idc how much pit for harry costs tomorrow i will pay that shit! and ive been saving up my leftover money from mcdonalds for some reason and this was it! Sorry lover fest it was good entertaining the idea of you\n"
     ]
    },
    {
     "name": "stderr",
     "output_type": "stream",
     "text": [
      "CRITICAL:root:twint.output:_output:CSV:Error:[Errno 13] Permission denied: 'McDonalds.csv'\n",
      "CRITICAL:root:twint.output:_output:CSV:Error:[Errno 13] Permission denied: 'McDonalds.csv'\n",
      "CRITICAL:root:twint.output:_output:CSV:Error:[Errno 13] Permission denied: 'McDonalds.csv'\n",
      "CRITICAL:root:twint.output:_output:CSV:Error:[Errno 13] Permission denied: 'McDonalds.csv'\n",
      "CRITICAL:root:twint.output:_output:CSV:Error:[Errno 13] Permission denied: 'McDonalds.csv'\n",
      "CRITICAL:root:twint.output:_output:CSV:Error:[Errno 13] Permission denied: 'McDonalds.csv'\n"
     ]
    },
    {
     "name": "stdout",
     "output_type": "stream",
     "text": [
      "[Errno 13] Permission denied: 'McDonalds.csv' [x] output._output\n",
      "Username _catrinha | Location {location} | Followers {followers} | Tweet Alguem sabe se no mcdonalds da Lama tem o CBO?\n",
      "[Errno 13] Permission denied: 'McDonalds.csv' [x] output._output\n",
      "Username rodriguez_davor | Location {location} | Followers {followers} | Tweet Quien para un Mc Donalds\n",
      "[Errno 13] Permission denied: 'McDonalds.csv' [x] output._output\n",
      "Username jaime_riosss | Location {location} | Followers {followers} | Tweet Acho que eu sou dependente do mc donalds\n",
      "[Errno 13] Permission denied: 'McDonalds.csv' [x] output._output\n",
      "Username Carlit0sWayy | Location {location} | Followers {followers} | Tweet 3 sub shops on the same block, that’s crazy. But then again, they all have their own customer base. Hell in my neighborhood there’s a bk, wendys, McDonalds, and a checkers within a block of one another.\n",
      "[Errno 13] Permission denied: 'McDonalds.csv' [x] output._output\n",
      "Username campdinkey | Location {location} | Followers {followers} | Tweet not to be all “bro did porky just 😂” but did porky just imply that he and daffy were dating (rhetorical question. yes) pic.twitter.com/kQLOydkXpN\n",
      "[Errno 13] Permission denied: 'McDonalds.csv' [x] output._output\n",
      "Username Love_McD | Location {location} | Followers {followers} | Tweet #シナモンメルツ との #しあわせがすぎる再会 がすぐそこに✨✨\n",
      "11/20 (水)から使えるしあわせクーポンプレゼント！\n",
      "シナモンシュガーと、とろ～り甘いクリームチーズ風味のシロップを楽しんで😍😍 #しあわせがすぎる再会キャンペーン @McDonaldsJapan\n",
      " http://w.mdj.jp/1a13bf?ts=20191118080308 … pic.twitter.com/8n37prHsuV\n"
     ]
    },
    {
     "name": "stderr",
     "output_type": "stream",
     "text": [
      "CRITICAL:root:twint.output:_output:CSV:Error:[Errno 13] Permission denied: 'McDonalds.csv'\n"
     ]
    },
    {
     "name": "stdout",
     "output_type": "stream",
     "text": [
      "[Errno 13] Permission denied: 'McDonalds.csv' [x] output._output\n",
      "Username reformed_gop | Location {location} | Followers {followers} | Tweet a la McDonalds?!\n"
     ]
    },
    {
     "name": "stderr",
     "output_type": "stream",
     "text": [
      "CRITICAL:root:twint.output:_output:CSV:Error:[Errno 13] Permission denied: 'McDonalds.csv'\n",
      "CRITICAL:root:twint.output:_output:CSV:Error:[Errno 13] Permission denied: 'McDonalds.csv'\n",
      "CRITICAL:root:twint.output:_output:CSV:Error:[Errno 13] Permission denied: 'McDonalds.csv'\n",
      "CRITICAL:root:twint.output:_output:CSV:Error:[Errno 13] Permission denied: 'McDonalds.csv'\n",
      "CRITICAL:root:twint.output:_output:CSV:Error:[Errno 13] Permission denied: 'McDonalds.csv'\n",
      "CRITICAL:root:twint.output:_output:CSV:Error:[Errno 13] Permission denied: 'McDonalds.csv'\n",
      "CRITICAL:root:twint.output:_output:CSV:Error:[Errno 13] Permission denied: 'McDonalds.csv'\n",
      "CRITICAL:root:twint.output:_output:CSV:Error:[Errno 13] Permission denied: 'McDonalds.csv'\n"
     ]
    },
    {
     "name": "stdout",
     "output_type": "stream",
     "text": [
      "[Errno 13] Permission denied: 'McDonalds.csv' [x] output._output\n",
      "Username AceAtMcDonalds | Location {location} | Followers {followers} | Tweet your avatar is so slimthick and tall trinity\n",
      "[Errno 13] Permission denied: 'McDonalds.csv' [x] output._output\n",
      "Username johnobyrne100 | Location {location} | Followers {followers} | Tweet Think you may be mistaken Joan. The old Savoy cinema and subsequently a gaming hall! Darrer’s supermarket just down the street now occupied by Argos and McDonalds! I do t tho k there was ever a supermarket in that premises but.... maybe I’m wrong!\n",
      "[Errno 13] Permission denied: 'McDonalds.csv' [x] output._output\n",
      "Username Love_McD | Location {location} | Followers {followers} | Tweet #シナモンメルツ との #しあわせがすぎる再会 がすぐそこに✨✨\n",
      "11/20 (水)から使えるしあわせクーポンプレゼント！\n",
      "シナモンシュガーと、とろ～り甘いクリームチーズ風味のシロップを楽しんで😍😍 #しあわせがすぎる再会キャンペーン @McDonaldsJapan\n",
      " http://w.mdj.jp/1a13bf?ts=20191118080236 … pic.twitter.com/qbRGeL9oM3\n",
      "[Errno 13] Permission denied: 'McDonalds.csv' [x] output._output\n",
      "Username StuartGreen2018 | Location {location} | Followers {followers} | Tweet Please sign the petition at the link below if you'd like to see @McDonaldsCorp bring back their classic #McDonalds restaurant designs, #McDonaldland characters and Ronald McDonald statue benches, and to replace their menu kiosks with cashiers. 🍔🍟 https://www.change.org/p/mcdonald-s-please-bring-back-classic-mcdonald-s …\n",
      "[Errno 13] Permission denied: 'McDonalds.csv' [x] output._output\n",
      "Username Leooooooow | Location {location} | Followers {followers} | Tweet Ptdr l'écologie c'est la grande quenelle des lobby du greenwashing, les 100 entreprises les plus polluantes émettent 71% de la pollution mondiale donc c'est pas 3 connards qui utilisent des pailles en carton qui vont changer quoi que ce sois mais bon ça donne bonne conscience 😂\n",
      "[Errno 13] Permission denied: 'McDonalds.csv' [x] output._output\n",
      "Username BGFonlinestore | Location {location} | Followers {followers} | Tweet McDonalds needs to change the name of Big Mac to Schmedium Mac!\n",
      "How much smaller are you going to make these things?  pic.twitter.com/CTYdxHEnGs\n",
      "[Errno 13] Permission denied: 'McDonalds.csv' [x] output._output\n",
      "Username MaryG0401 | Location {location} | Followers {followers} | Tweet I wanted a cone but I decided the sundae would be better\n"
     ]
    },
    {
     "name": "stderr",
     "output_type": "stream",
     "text": [
      "CRITICAL:root:twint.output:_output:CSV:Error:[Errno 13] Permission denied: 'McDonalds.csv'\n",
      "CRITICAL:root:twint.output:_output:CSV:Error:[Errno 13] Permission denied: 'McDonalds.csv'\n",
      "CRITICAL:root:twint.output:_output:CSV:Error:[Errno 13] Permission denied: 'McDonalds.csv'\n",
      "CRITICAL:root:twint.output:_output:CSV:Error:[Errno 13] Permission denied: 'McDonalds.csv'\n",
      "CRITICAL:root:twint.output:_output:CSV:Error:[Errno 13] Permission denied: 'McDonalds.csv'\n",
      "CRITICAL:root:twint.output:_output:CSV:Error:[Errno 13] Permission denied: 'McDonalds.csv'\n",
      "CRITICAL:root:twint.output:_output:CSV:Error:[Errno 13] Permission denied: 'McDonalds.csv'\n",
      "CRITICAL:root:twint.output:_output:CSV:Error:[Errno 13] Permission denied: 'McDonalds.csv'\n"
     ]
    },
    {
     "name": "stdout",
     "output_type": "stream",
     "text": [
      "[Errno 13] Permission denied: 'McDonalds.csv' [x] output._output\n",
      "Username RBerbaron | Location {location} | Followers {followers} | Tweet Can anyone remember the last time their food was good at @Mcdonalds.   The only consistent quality product coming out of Mcds these days is @CocaColaCo\n",
      "[Errno 13] Permission denied: 'McDonalds.csv' [x] output._output\n",
      "Username Love_McD | Location {location} | Followers {followers} | Tweet #シナモンメルツ との #しあわせがすぎる再会 がすぐそこに✨✨\n",
      "11/20 (水)から使えるしあわせクーポンプレゼント！\n",
      "シナモンシュガーと、とろ～り甘いクリームチーズ風味のシロップを楽しんで😍😍 #しあわせがすぎる再会キャンペーン @McDonaldsJapan\n",
      " http://w.mdj.jp/1a13bf?ts=20191118080153 … pic.twitter.com/7IRVVovYmN\n",
      "[Errno 13] Permission denied: 'McDonalds.csv' [x] output._output\n",
      "Username HeadshotPeezy | Location {location} | Followers {followers} | Tweet Mcdonalds ? Cool.\n",
      "[Errno 13] Permission denied: 'McDonalds.csv' [x] output._output\n",
      "Username bloodandhoney_ | Location {location} | Followers {followers} | Tweet Tims’ biggest fuck up was when they let mcdonalds steal their old coffee supplier when their contract ran out, they suck a S s\n",
      "[Errno 13] Permission denied: 'McDonalds.csv' [x] output._output\n",
      "Username kurt81047639 | Location {location} | Followers {followers} | Tweet Just gonna drop this here. pic.twitter.com/KaAaoGVeSN\n",
      "[Errno 13] Permission denied: 'McDonalds.csv' [x] output._output\n",
      "Username Love_McD | Location {location} | Followers {followers} | Tweet #シナモンメルツ との #しあわせがすぎる再会 がすぐそこに✨✨\n",
      "11/20 (水)から使えるしあわせクーポンプレゼント！\n",
      "シナモンシュガーと、とろ～り甘いクリームチーズ風味のシロップを楽しんで😍😍 #しあわせがすぎる再会キャンペーン @McDonaldsJapan\n",
      " http://w.mdj.jp/1a13bf?ts=20191118080124 … pic.twitter.com/RqVFUjZQlU\n",
      "[Errno 13] Permission denied: 'McDonalds.csv' [x] output._output\n",
      "Username Celesiaaa_ | Location {location} | Followers {followers} | Tweet Don’t  let me hold the mcdonalds bag in the car i’m eating everybody fries but MINE\n",
      "[Errno 13] Permission denied: 'McDonalds.csv' [x] output._output\n",
      "Username 5LbHatchelFlax | Location {location} | Followers {followers} | Tweet $1.60 at McDonalds in 1973. Fringe benefits: every now and then an apple pie would hit the floor and if I could get there in under five seconds... score!\n"
     ]
    },
    {
     "name": "stderr",
     "output_type": "stream",
     "text": [
      "CRITICAL:root:twint.output:_output:CSV:Error:[Errno 13] Permission denied: 'McDonalds.csv'\n",
      "CRITICAL:root:twint.output:_output:CSV:Error:[Errno 13] Permission denied: 'McDonalds.csv'\n",
      "CRITICAL:root:twint.output:_output:CSV:Error:[Errno 13] Permission denied: 'McDonalds.csv'\n",
      "CRITICAL:root:twint.output:_output:CSV:Error:[Errno 13] Permission denied: 'McDonalds.csv'\n"
     ]
    },
    {
     "name": "stdout",
     "output_type": "stream",
     "text": [
      "[Errno 13] Permission denied: 'McDonalds.csv' [x] output._output\n",
      "Username emmaaaaj_x | Location {location} | Followers {followers} | Tweet Sorry but how cute is the mcdonalds Christmas advert 😭\n",
      "[Errno 13] Permission denied: 'McDonalds.csv' [x] output._output\n",
      "Username Kei_NoLocksmith | Location {location} | Followers {followers} | Tweet cookies from McDonalds don’t even hit for real I hope these satisfy my craving.\n",
      "[Errno 13] Permission denied: 'McDonalds.csv' [x] output._output\n",
      "Username Lodac771 | Location {location} | Followers {followers} | Tweet this is actually how McDonalds sprite first sip hits like\n",
      "[Errno 13] Permission denied: 'McDonalds.csv' [x] output._output\n",
      "Username MollyHemingway | Location {location} | Followers {followers} | Tweet Love you like a chicken nugget loves McDonalds love sweet and sour sauce\n",
      "[Errno 13] Permission denied: 'McDonalds.csv' [x] output._output\n",
      "Username byronicqueer_o | Location {location} | Followers {followers} | Tweet just made eye contact with this dude in the mcdonalds parking lot while i wiped my nose on my shirt sleeve bc i didn’t have a kleenex. mind your business next time\n"
     ]
    },
    {
     "name": "stderr",
     "output_type": "stream",
     "text": [
      "CRITICAL:root:twint.output:_output:CSV:Error:[Errno 13] Permission denied: 'McDonalds.csv'\n",
      "CRITICAL:root:twint.output:_output:CSV:Error:[Errno 13] Permission denied: 'McDonalds.csv'\n",
      "CRITICAL:root:twint.output:_output:CSV:Error:[Errno 13] Permission denied: 'McDonalds.csv'\n",
      "CRITICAL:root:twint.output:_output:CSV:Error:[Errno 13] Permission denied: 'McDonalds.csv'\n",
      "CRITICAL:root:twint.output:_output:CSV:Error:[Errno 13] Permission denied: 'McDonalds.csv'\n",
      "CRITICAL:root:twint.output:_output:CSV:Error:[Errno 13] Permission denied: 'McDonalds.csv'\n",
      "CRITICAL:root:twint.output:_output:CSV:Error:[Errno 13] Permission denied: 'McDonalds.csv'\n",
      "CRITICAL:root:twint.output:_output:CSV:Error:[Errno 13] Permission denied: 'McDonalds.csv'\n",
      "CRITICAL:root:twint.output:_output:CSV:Error:[Errno 13] Permission denied: 'McDonalds.csv'\n",
      "CRITICAL:root:twint.output:_output:CSV:Error:[Errno 13] Permission denied: 'McDonalds.csv'\n",
      "CRITICAL:root:twint.output:_output:CSV:Error:[Errno 13] Permission denied: 'McDonalds.csv'\n",
      "CRITICAL:root:twint.output:_output:CSV:Error:[Errno 13] Permission denied: 'McDonalds.csv'\n",
      "CRITICAL:root:twint.output:_output:CSV:Error:[Errno 13] Permission denied: 'McDonalds.csv'\n",
      "CRITICAL:root:twint.output:_output:CSV:Error:[Errno 13] Permission denied: 'McDonalds.csv'\n",
      "CRITICAL:root:twint.output:_output:CSV:Error:[Errno 13] Permission denied: 'McDonalds.csv'\n"
     ]
    },
    {
     "name": "stdout",
     "output_type": "stream",
     "text": [
      "[Errno 13] Permission denied: 'McDonalds.csv' [x] output._output\n",
      "Username autumntaeil | Location {location} | Followers {followers} | Tweet cade meu pai com o mcdonalds\n",
      "[Errno 13] Permission denied: 'McDonalds.csv' [x] output._output\n",
      "Username RBerbaron | Location {location} | Followers {followers} | Tweet @McDonalds   bring back crispy ffs!  pic.twitter.com/e6MGWlaBAn\n",
      "[Errno 13] Permission denied: 'McDonalds.csv' [x] output._output\n",
      "Username allanaraujo | Location {location} | Followers {followers} | Tweet Gostei da ideia da justiça privatizada. Vou poder te processar no Tribunal McDonalds de Justiça por jumentice, algo que não posso fazer no Judiciário atual.\n",
      "[Errno 13] Permission denied: 'McDonalds.csv' [x] output._output\n",
      "Username emillydsz | Location {location} | Followers {followers} | Tweet Voltando do interior e só queríamos achar @McDonalds na estrada aaaaaaa inferno\n",
      "[Errno 13] Permission denied: 'McDonalds.csv' [x] output._output\n",
      "Username jmtalkradio | Location {location} | Followers {followers} | Tweet 📣 New Podcast! \"Joel Michalec Show #73: It's Magic!\" on @Spreaker #cannabis #christmas #comedy #entertainment #facebook #honorthyheroes #magic #mcdonalds #news #police #radio #security #talk #thanksgiving #wotw https://www.spreaker.com/user/qybradionetwork/joel-michalec-show-73-its-magic?autoplay=1 …\n",
      "[Errno 13] Permission denied: 'McDonalds.csv' [x] output._output\n",
      "Username didelfcdazy | Location {location} | Followers {followers} | Tweet Best xmas ad McDonalds for me\n",
      "[Errno 13] Permission denied: 'McDonalds.csv' [x] output._output\n",
      "Username martianamxx | Location {location} | Followers {followers} | Tweet I am LAUGHING\n",
      "[Errno 13] Permission denied: 'McDonalds.csv' [x] output._output\n",
      "Username BambiBlackout | Location {location} | Followers {followers} | Tweet Amen 🍔🍟🍔🍟 McDonalds for dinner tonight over here\n",
      "[Errno 13] Permission denied: 'McDonalds.csv' [x] output._output\n",
      "Username JohnnyDepanneur | Location {location} | Followers {followers} | Tweet i am convinced that every violent crime in toronto happens immediately outside of a mcdonalds  https://twitter.com/680NEWS/status/1196199843821182981 …\n",
      "[Errno 13] Permission denied: 'McDonalds.csv' [x] output._output\n",
      "Username CMcAuley99 | Location {location} | Followers {followers} | Tweet Puberty hit mcdonalds  https://www.facebook.com/1489065422/posts/10221315057854486/ …\n",
      "[Errno 13] Permission denied: 'McDonalds.csv' [x] output._output\n",
      "Username MaryG0401 | Location {location} | Followers {followers} | Tweet I tell ya that strawberry sundae hit the spot 😂\n",
      "[Errno 13] Permission denied: 'McDonalds.csv' [x] output._output\n",
      "Username vivigarubi | Location {location} | Followers {followers} | Tweet Felicitaciones Eliana!\n",
      "[Errno 13] Permission denied: 'McDonalds.csv' [x] output._output\n",
      "Username trouxapontocoms | Location {location} | Followers {followers} | Tweet Acabei de encontrar a mãe do @Pedro_Xesq e a pri no McDonalds em uma cidade que eu não sei qual é\n",
      "[Errno 13] Permission denied: 'McDonalds.csv' [x] output._output\n",
      "Username j_jadaaa | Location {location} | Followers {followers} | Tweet People be doing a whole 60 on a 30 swerving in front of people just to go to McDonalds.\n",
      "[Errno 13] Permission denied: 'McDonalds.csv' [x] output._output\n",
      "Username victoriaannette | Location {location} | Followers {followers} | Tweet The Sainsburys Christmas ad is my fave this year so far🎅🏻🎄 love the Mcdonalds one too 🦌\n"
     ]
    },
    {
     "name": "stderr",
     "output_type": "stream",
     "text": [
      "CRITICAL:root:twint.output:_output:CSV:Error:[Errno 13] Permission denied: 'McDonalds.csv'\n",
      "CRITICAL:root:twint.output:_output:CSV:Error:[Errno 13] Permission denied: 'McDonalds.csv'\n",
      "CRITICAL:root:twint.output:_output:CSV:Error:[Errno 13] Permission denied: 'McDonalds.csv'\n",
      "CRITICAL:root:twint.output:_output:CSV:Error:[Errno 13] Permission denied: 'McDonalds.csv'\n",
      "CRITICAL:root:twint.output:_output:CSV:Error:[Errno 13] Permission denied: 'McDonalds.csv'\n"
     ]
    },
    {
     "name": "stdout",
     "output_type": "stream",
     "text": [
      "[Errno 13] Permission denied: 'McDonalds.csv' [x] output._output\n",
      "Username RBerbaron | Location {location} | Followers {followers} | Tweet Who can remember when @McDonalds served hot AND crispy french fries?  pic.twitter.com/0740945FEw\n",
      "[Errno 13] Permission denied: 'McDonalds.csv' [x] output._output\n",
      "Username menghi71 | Location {location} | Followers {followers} | Tweet ALDA MERINI\n",
      "#mcdrive #scrivilosuimuri #muripuliti #salmo #mcdonalds #leggilosuimuri #muripulitipopolimuti #suimuri #scrittesuimuri #mppm #poesiadistrada #muri #veritàsuimuri #scrittosuimuri #wall #murales #scrittore…  https://www.instagram.com/p/B4-_Fq2iUVJ/?igshid=1vj8cdd645lac …\n",
      "[Errno 13] Permission denied: 'McDonalds.csv' [x] output._output\n",
      "Username MelindaAley | Location {location} | Followers {followers} | Tweet Gotta love the constancy of @McDonalds. No matter where I travel, it is a 15 minute wait to be told the shake machine is down. #disappointed #feelslikehome #noicecream Where is @ChickfilA when I need them?\n",
      "[Errno 13] Permission denied: 'McDonalds.csv' [x] output._output\n",
      "Username Leooooooow | Location {location} | Followers {followers} | Tweet Ça empêche le gobelet de se renverser ? Non parce que là ça a 0 rapport avec mon tweet 😭😭😭\n",
      "[Errno 13] Permission denied: 'McDonalds.csv' [x] output._output\n",
      "Username AceAtMcDonalds | Location {location} | Followers {followers} | Tweet top of head reveal\n"
     ]
    }
   ],
   "source": [
    "twint.run.Search(c)"
   ]
  },
  {
   "cell_type": "code",
   "execution_count": null,
   "metadata": {},
   "outputs": [],
   "source": []
  },
  {
   "cell_type": "code",
   "execution_count": null,
   "metadata": {},
   "outputs": [],
   "source": []
  }
 ],
 "metadata": {
  "kernelspec": {
   "display_name": "Python 3",
   "language": "python",
   "name": "python3"
  },
  "language_info": {
   "codemirror_mode": {
    "name": "ipython",
    "version": 3
   },
   "file_extension": ".py",
   "mimetype": "text/x-python",
   "name": "python",
   "nbconvert_exporter": "python",
   "pygments_lexer": "ipython3",
   "version": "3.7.3"
  }
 },
 "nbformat": 4,
 "nbformat_minor": 2
}
